{
  "cells": [
    {
      "cell_type": "code",
      "execution_count": 1,
      "metadata": {
        "colab": {
          "base_uri": "https://localhost:8080/"
        },
        "id": "Dktl3MMvnkCv",
        "outputId": "3d795fb7-1e98-4a05-9836-ca46f13f946d"
      },
      "outputs": [
        {
          "output_type": "stream",
          "name": "stderr",
          "text": [
            "[nltk_data] Downloading package punkt to /root/nltk_data...\n",
            "[nltk_data]   Package punkt is already up-to-date!\n"
          ]
        }
      ],
      "source": [
        "import os\n",
        "import torch\n",
        "import torch.nn as nn\n",
        "import time\n",
        "import csv\n",
        "import pandas as pd\n",
        "from torch.utils.data import DataLoader\n",
        "import torch.nn.functional as func\n",
        "from bs4 import BeautifulSoup\n",
        "import numpy as np\n",
        "from nltk.tokenize import word_tokenize\n",
        "import string\n",
        "import nltk\n",
        "nltk.download('punkt')\n",
        "\n",
        "import re\n",
        "from torch.utils.data import DataLoader\n",
        "import torch\n",
        "import torch.nn as nn\n",
        "from torch.utils.data import Dataset\n",
        "import pandas as pd\n",
        "from torch.optim import Adam\n",
        "from tqdm.auto import tqdm"
      ]
    },
    {
      "cell_type": "code",
      "execution_count": 2,
      "metadata": {
        "colab": {
          "base_uri": "https://localhost:8080/"
        },
        "id": "Ts3A7DsIoqyD",
        "outputId": "0d23de35-0f5e-4465-d6e1-0e77e41f92a9"
      },
      "outputs": [
        {
          "output_type": "stream",
          "name": "stdout",
          "text": [
            "Drive already mounted at /content/gdrive; to attempt to forcibly remount, call drive.mount(\"/content/gdrive\", force_remount=True).\n"
          ]
        }
      ],
      "source": [
        "from google.colab import drive\n",
        "drive.mount('/content/gdrive')"
      ]
    },
    {
      "cell_type": "code",
      "execution_count": 3,
      "metadata": {
        "id": "sBout3NF5E4Z"
      },
      "outputs": [],
      "source": [
        "!pip install datasets -q"
      ]
    },
    {
      "cell_type": "code",
      "execution_count": 4,
      "metadata": {
        "id": "n3e6z3Hj-ts0"
      },
      "outputs": [],
      "source": [
        "!pip install transformers -q"
      ]
    },
    {
      "cell_type": "code",
      "execution_count": 5,
      "metadata": {
        "id": "QIm70baY5Dbt"
      },
      "outputs": [],
      "source": [
        "import pandas as pd\n",
        "from datasets import load_dataset\n",
        "\n",
        "# squad_dataset = load_dataset(\"squad_v2\")\n",
        "squad_dataset = load_dataset(\"squad\")\n",
        "train_dataset = squad_dataset[\"train\"]\n",
        "df = pd.DataFrame(train_dataset)"
      ]
    },
    {
      "cell_type": "code",
      "execution_count": 6,
      "metadata": {
        "colab": {
          "base_uri": "https://localhost:8080/",
          "height": 206
        },
        "id": "mWe4XWHU5mns",
        "outputId": "f9ce6252-c61c-471b-c796-45b6aef0bcdd"
      },
      "outputs": [
        {
          "output_type": "execute_result",
          "data": {
            "text/plain": [
              "                         id                     title  \\\n",
              "0  5733be284776f41900661182  University_of_Notre_Dame   \n",
              "1  5733be284776f4190066117f  University_of_Notre_Dame   \n",
              "2  5733be284776f41900661180  University_of_Notre_Dame   \n",
              "3  5733be284776f41900661181  University_of_Notre_Dame   \n",
              "4  5733be284776f4190066117e  University_of_Notre_Dame   \n",
              "\n",
              "                                             context  \\\n",
              "0  Architecturally, the school has a Catholic cha...   \n",
              "1  Architecturally, the school has a Catholic cha...   \n",
              "2  Architecturally, the school has a Catholic cha...   \n",
              "3  Architecturally, the school has a Catholic cha...   \n",
              "4  Architecturally, the school has a Catholic cha...   \n",
              "\n",
              "                                            question  \\\n",
              "0  To whom did the Virgin Mary allegedly appear i...   \n",
              "1  What is in front of the Notre Dame Main Building?   \n",
              "2  The Basilica of the Sacred heart at Notre Dame...   \n",
              "3                  What is the Grotto at Notre Dame?   \n",
              "4  What sits on top of the Main Building at Notre...   \n",
              "\n",
              "                                             answers  \n",
              "0  {'text': ['Saint Bernadette Soubirous'], 'answ...  \n",
              "1  {'text': ['a copper statue of Christ'], 'answe...  \n",
              "2  {'text': ['the Main Building'], 'answer_start'...  \n",
              "3  {'text': ['a Marian place of prayer and reflec...  \n",
              "4  {'text': ['a golden statue of the Virgin Mary'...  "
            ],
            "text/html": [
              "\n",
              "  <div id=\"df-870b931c-44a0-4bd5-bd0c-73f5b743fd91\" class=\"colab-df-container\">\n",
              "    <div>\n",
              "<style scoped>\n",
              "    .dataframe tbody tr th:only-of-type {\n",
              "        vertical-align: middle;\n",
              "    }\n",
              "\n",
              "    .dataframe tbody tr th {\n",
              "        vertical-align: top;\n",
              "    }\n",
              "\n",
              "    .dataframe thead th {\n",
              "        text-align: right;\n",
              "    }\n",
              "</style>\n",
              "<table border=\"1\" class=\"dataframe\">\n",
              "  <thead>\n",
              "    <tr style=\"text-align: right;\">\n",
              "      <th></th>\n",
              "      <th>id</th>\n",
              "      <th>title</th>\n",
              "      <th>context</th>\n",
              "      <th>question</th>\n",
              "      <th>answers</th>\n",
              "    </tr>\n",
              "  </thead>\n",
              "  <tbody>\n",
              "    <tr>\n",
              "      <th>0</th>\n",
              "      <td>5733be284776f41900661182</td>\n",
              "      <td>University_of_Notre_Dame</td>\n",
              "      <td>Architecturally, the school has a Catholic cha...</td>\n",
              "      <td>To whom did the Virgin Mary allegedly appear i...</td>\n",
              "      <td>{'text': ['Saint Bernadette Soubirous'], 'answ...</td>\n",
              "    </tr>\n",
              "    <tr>\n",
              "      <th>1</th>\n",
              "      <td>5733be284776f4190066117f</td>\n",
              "      <td>University_of_Notre_Dame</td>\n",
              "      <td>Architecturally, the school has a Catholic cha...</td>\n",
              "      <td>What is in front of the Notre Dame Main Building?</td>\n",
              "      <td>{'text': ['a copper statue of Christ'], 'answe...</td>\n",
              "    </tr>\n",
              "    <tr>\n",
              "      <th>2</th>\n",
              "      <td>5733be284776f41900661180</td>\n",
              "      <td>University_of_Notre_Dame</td>\n",
              "      <td>Architecturally, the school has a Catholic cha...</td>\n",
              "      <td>The Basilica of the Sacred heart at Notre Dame...</td>\n",
              "      <td>{'text': ['the Main Building'], 'answer_start'...</td>\n",
              "    </tr>\n",
              "    <tr>\n",
              "      <th>3</th>\n",
              "      <td>5733be284776f41900661181</td>\n",
              "      <td>University_of_Notre_Dame</td>\n",
              "      <td>Architecturally, the school has a Catholic cha...</td>\n",
              "      <td>What is the Grotto at Notre Dame?</td>\n",
              "      <td>{'text': ['a Marian place of prayer and reflec...</td>\n",
              "    </tr>\n",
              "    <tr>\n",
              "      <th>4</th>\n",
              "      <td>5733be284776f4190066117e</td>\n",
              "      <td>University_of_Notre_Dame</td>\n",
              "      <td>Architecturally, the school has a Catholic cha...</td>\n",
              "      <td>What sits on top of the Main Building at Notre...</td>\n",
              "      <td>{'text': ['a golden statue of the Virgin Mary'...</td>\n",
              "    </tr>\n",
              "  </tbody>\n",
              "</table>\n",
              "</div>\n",
              "    <div class=\"colab-df-buttons\">\n",
              "\n",
              "  <div class=\"colab-df-container\">\n",
              "    <button class=\"colab-df-convert\" onclick=\"convertToInteractive('df-870b931c-44a0-4bd5-bd0c-73f5b743fd91')\"\n",
              "            title=\"Convert this dataframe to an interactive table.\"\n",
              "            style=\"display:none;\">\n",
              "\n",
              "  <svg xmlns=\"http://www.w3.org/2000/svg\" height=\"24px\" viewBox=\"0 -960 960 960\">\n",
              "    <path d=\"M120-120v-720h720v720H120Zm60-500h600v-160H180v160Zm220 220h160v-160H400v160Zm0 220h160v-160H400v160ZM180-400h160v-160H180v160Zm440 0h160v-160H620v160ZM180-180h160v-160H180v160Zm440 0h160v-160H620v160Z\"/>\n",
              "  </svg>\n",
              "    </button>\n",
              "\n",
              "  <style>\n",
              "    .colab-df-container {\n",
              "      display:flex;\n",
              "      gap: 12px;\n",
              "    }\n",
              "\n",
              "    .colab-df-convert {\n",
              "      background-color: #E8F0FE;\n",
              "      border: none;\n",
              "      border-radius: 50%;\n",
              "      cursor: pointer;\n",
              "      display: none;\n",
              "      fill: #1967D2;\n",
              "      height: 32px;\n",
              "      padding: 0 0 0 0;\n",
              "      width: 32px;\n",
              "    }\n",
              "\n",
              "    .colab-df-convert:hover {\n",
              "      background-color: #E2EBFA;\n",
              "      box-shadow: 0px 1px 2px rgba(60, 64, 67, 0.3), 0px 1px 3px 1px rgba(60, 64, 67, 0.15);\n",
              "      fill: #174EA6;\n",
              "    }\n",
              "\n",
              "    .colab-df-buttons div {\n",
              "      margin-bottom: 4px;\n",
              "    }\n",
              "\n",
              "    [theme=dark] .colab-df-convert {\n",
              "      background-color: #3B4455;\n",
              "      fill: #D2E3FC;\n",
              "    }\n",
              "\n",
              "    [theme=dark] .colab-df-convert:hover {\n",
              "      background-color: #434B5C;\n",
              "      box-shadow: 0px 1px 3px 1px rgba(0, 0, 0, 0.15);\n",
              "      filter: drop-shadow(0px 1px 2px rgba(0, 0, 0, 0.3));\n",
              "      fill: #FFFFFF;\n",
              "    }\n",
              "  </style>\n",
              "\n",
              "    <script>\n",
              "      const buttonEl =\n",
              "        document.querySelector('#df-870b931c-44a0-4bd5-bd0c-73f5b743fd91 button.colab-df-convert');\n",
              "      buttonEl.style.display =\n",
              "        google.colab.kernel.accessAllowed ? 'block' : 'none';\n",
              "\n",
              "      async function convertToInteractive(key) {\n",
              "        const element = document.querySelector('#df-870b931c-44a0-4bd5-bd0c-73f5b743fd91');\n",
              "        const dataTable =\n",
              "          await google.colab.kernel.invokeFunction('convertToInteractive',\n",
              "                                                    [key], {});\n",
              "        if (!dataTable) return;\n",
              "\n",
              "        const docLinkHtml = 'Like what you see? Visit the ' +\n",
              "          '<a target=\"_blank\" href=https://colab.research.google.com/notebooks/data_table.ipynb>data table notebook</a>'\n",
              "          + ' to learn more about interactive tables.';\n",
              "        element.innerHTML = '';\n",
              "        dataTable['output_type'] = 'display_data';\n",
              "        await google.colab.output.renderOutput(dataTable, element);\n",
              "        const docLink = document.createElement('div');\n",
              "        docLink.innerHTML = docLinkHtml;\n",
              "        element.appendChild(docLink);\n",
              "      }\n",
              "    </script>\n",
              "  </div>\n",
              "\n",
              "\n",
              "<div id=\"df-57f57ba1-068b-4795-897b-e3c45e3596e5\">\n",
              "  <button class=\"colab-df-quickchart\" onclick=\"quickchart('df-57f57ba1-068b-4795-897b-e3c45e3596e5')\"\n",
              "            title=\"Suggest charts\"\n",
              "            style=\"display:none;\">\n",
              "\n",
              "<svg xmlns=\"http://www.w3.org/2000/svg\" height=\"24px\"viewBox=\"0 0 24 24\"\n",
              "     width=\"24px\">\n",
              "    <g>\n",
              "        <path d=\"M19 3H5c-1.1 0-2 .9-2 2v14c0 1.1.9 2 2 2h14c1.1 0 2-.9 2-2V5c0-1.1-.9-2-2-2zM9 17H7v-7h2v7zm4 0h-2V7h2v10zm4 0h-2v-4h2v4z\"/>\n",
              "    </g>\n",
              "</svg>\n",
              "  </button>\n",
              "\n",
              "<style>\n",
              "  .colab-df-quickchart {\n",
              "      --bg-color: #E8F0FE;\n",
              "      --fill-color: #1967D2;\n",
              "      --hover-bg-color: #E2EBFA;\n",
              "      --hover-fill-color: #174EA6;\n",
              "      --disabled-fill-color: #AAA;\n",
              "      --disabled-bg-color: #DDD;\n",
              "  }\n",
              "\n",
              "  [theme=dark] .colab-df-quickchart {\n",
              "      --bg-color: #3B4455;\n",
              "      --fill-color: #D2E3FC;\n",
              "      --hover-bg-color: #434B5C;\n",
              "      --hover-fill-color: #FFFFFF;\n",
              "      --disabled-bg-color: #3B4455;\n",
              "      --disabled-fill-color: #666;\n",
              "  }\n",
              "\n",
              "  .colab-df-quickchart {\n",
              "    background-color: var(--bg-color);\n",
              "    border: none;\n",
              "    border-radius: 50%;\n",
              "    cursor: pointer;\n",
              "    display: none;\n",
              "    fill: var(--fill-color);\n",
              "    height: 32px;\n",
              "    padding: 0;\n",
              "    width: 32px;\n",
              "  }\n",
              "\n",
              "  .colab-df-quickchart:hover {\n",
              "    background-color: var(--hover-bg-color);\n",
              "    box-shadow: 0 1px 2px rgba(60, 64, 67, 0.3), 0 1px 3px 1px rgba(60, 64, 67, 0.15);\n",
              "    fill: var(--button-hover-fill-color);\n",
              "  }\n",
              "\n",
              "  .colab-df-quickchart-complete:disabled,\n",
              "  .colab-df-quickchart-complete:disabled:hover {\n",
              "    background-color: var(--disabled-bg-color);\n",
              "    fill: var(--disabled-fill-color);\n",
              "    box-shadow: none;\n",
              "  }\n",
              "\n",
              "  .colab-df-spinner {\n",
              "    border: 2px solid var(--fill-color);\n",
              "    border-color: transparent;\n",
              "    border-bottom-color: var(--fill-color);\n",
              "    animation:\n",
              "      spin 1s steps(1) infinite;\n",
              "  }\n",
              "\n",
              "  @keyframes spin {\n",
              "    0% {\n",
              "      border-color: transparent;\n",
              "      border-bottom-color: var(--fill-color);\n",
              "      border-left-color: var(--fill-color);\n",
              "    }\n",
              "    20% {\n",
              "      border-color: transparent;\n",
              "      border-left-color: var(--fill-color);\n",
              "      border-top-color: var(--fill-color);\n",
              "    }\n",
              "    30% {\n",
              "      border-color: transparent;\n",
              "      border-left-color: var(--fill-color);\n",
              "      border-top-color: var(--fill-color);\n",
              "      border-right-color: var(--fill-color);\n",
              "    }\n",
              "    40% {\n",
              "      border-color: transparent;\n",
              "      border-right-color: var(--fill-color);\n",
              "      border-top-color: var(--fill-color);\n",
              "    }\n",
              "    60% {\n",
              "      border-color: transparent;\n",
              "      border-right-color: var(--fill-color);\n",
              "    }\n",
              "    80% {\n",
              "      border-color: transparent;\n",
              "      border-right-color: var(--fill-color);\n",
              "      border-bottom-color: var(--fill-color);\n",
              "    }\n",
              "    90% {\n",
              "      border-color: transparent;\n",
              "      border-bottom-color: var(--fill-color);\n",
              "    }\n",
              "  }\n",
              "</style>\n",
              "\n",
              "  <script>\n",
              "    async function quickchart(key) {\n",
              "      const quickchartButtonEl =\n",
              "        document.querySelector('#' + key + ' button');\n",
              "      quickchartButtonEl.disabled = true;  // To prevent multiple clicks.\n",
              "      quickchartButtonEl.classList.add('colab-df-spinner');\n",
              "      try {\n",
              "        const charts = await google.colab.kernel.invokeFunction(\n",
              "            'suggestCharts', [key], {});\n",
              "      } catch (error) {\n",
              "        console.error('Error during call to suggestCharts:', error);\n",
              "      }\n",
              "      quickchartButtonEl.classList.remove('colab-df-spinner');\n",
              "      quickchartButtonEl.classList.add('colab-df-quickchart-complete');\n",
              "    }\n",
              "    (() => {\n",
              "      let quickchartButtonEl =\n",
              "        document.querySelector('#df-57f57ba1-068b-4795-897b-e3c45e3596e5 button');\n",
              "      quickchartButtonEl.style.display =\n",
              "        google.colab.kernel.accessAllowed ? 'block' : 'none';\n",
              "    })();\n",
              "  </script>\n",
              "</div>\n",
              "    </div>\n",
              "  </div>\n"
            ]
          },
          "metadata": {},
          "execution_count": 6
        }
      ],
      "source": [
        "# df[df['title']=='Beyoncé']\n",
        "df.head()\n"
      ]
    },
    {
      "cell_type": "code",
      "execution_count": 7,
      "metadata": {
        "id": "WrxIOP8-or2n"
      },
      "outputs": [],
      "source": [
        "# path = r\"/content/gdrive/MyDrive/nlp dataset/dataset/train-v2.0.json\"\n",
        "# with open(path, 'r') as file:\n",
        "#     data = json.load(file)\n",
        "\n",
        "# print(data.keys())"
      ]
    },
    {
      "cell_type": "code",
      "execution_count": 8,
      "metadata": {
        "id": "5pRU8i1t1mCO"
      },
      "outputs": [],
      "source": [
        "# len(data['data']), len(data['data'][0]['paragraphs'])"
      ]
    },
    {
      "cell_type": "code",
      "execution_count": 9,
      "metadata": {
        "id": "C4q9u5V6pQEg"
      },
      "outputs": [],
      "source": [
        "# (data['data'][0].keys()), data['data'][0]['paragraphs'][1].keys()"
      ]
    },
    {
      "cell_type": "code",
      "execution_count": 10,
      "metadata": {
        "id": "RkXPXmqeqayv"
      },
      "outputs": [],
      "source": [
        "# len(data['data'][0]['paragraphs'][1]['qas'])"
      ]
    },
    {
      "cell_type": "code",
      "execution_count": 11,
      "metadata": {
        "id": "82oE3o8Z3DPa"
      },
      "outputs": [],
      "source": [
        "# data['data'][0]['title']"
      ]
    },
    {
      "cell_type": "code",
      "execution_count": 12,
      "metadata": {
        "id": "oA5PfVqc3iDw"
      },
      "outputs": [],
      "source": [
        "# data['data'][0]['paragraphs'][0]['qas'][0]"
      ]
    },
    {
      "cell_type": "code",
      "execution_count": 13,
      "metadata": {
        "id": "7kMIxGMt1NEB"
      },
      "outputs": [],
      "source": [
        "# data['data'][0]"
      ]
    },
    {
      "cell_type": "code",
      "execution_count": 13,
      "metadata": {
        "id": "8sI2DyWDORo3"
      },
      "outputs": [],
      "source": []
    },
    {
      "cell_type": "code",
      "execution_count": 14,
      "metadata": {
        "id": "YlWGzG-JORl_"
      },
      "outputs": [],
      "source": [
        "from transformers import GPT2LMHeadModel, GPT2TokenizerFast\n",
        "import torch\n",
        "import torch.nn as nn"
      ]
    },
    {
      "cell_type": "code",
      "execution_count": 15,
      "metadata": {
        "id": "NDGFpRjaORjH"
      },
      "outputs": [],
      "source": [
        "class SoftEmbedding(nn.Module):\n",
        "  def __init__(self, wte, n_tokens):\n",
        "      super(SoftEmbedding, self).__init__()\n",
        "      self.wte = wte\n",
        "      self.n_tokens = n_tokens\n",
        "      self.learned_embedding = nn.parameter.Parameter(self.initialize_embedding(wte, n_tokens))\n",
        "\n",
        "  def initialize_embedding(self, wte, n_token):\n",
        "      return self.wte.weight[:n_tokens].clone().detach()\n",
        "\n",
        "  def forward(self, tokens):\n",
        "      input_embedding = self.wte(tokens[:, self.n_tokens:])\n",
        "      learned_embedding = self.learned_embedding.repeat(input_embedding.size(0), 1, 1)\n",
        "      return torch.cat([learned_embedding, input_embedding], 1)"
      ]
    },
    {
      "cell_type": "code",
      "execution_count": 16,
      "metadata": {
        "id": "qBzd8T6uORgO"
      },
      "outputs": [],
      "source": [
        "tokenizer = GPT2TokenizerFast.from_pretrained(\"gpt2\")\n",
        "model = GPT2LMHeadModel.from_pretrained('gpt2')"
      ]
    },
    {
      "cell_type": "code",
      "source": [
        "n_tokens=2"
      ],
      "metadata": {
        "id": "5RqSbUAF3_Wi"
      },
      "execution_count": 17,
      "outputs": []
    },
    {
      "cell_type": "code",
      "execution_count": 18,
      "metadata": {
        "id": "PUoGdOjJO1Io"
      },
      "outputs": [],
      "source": [
        "s_wte = SoftEmbedding(model.get_input_embeddings(),\n",
        "                      n_tokens=n_tokens)"
      ]
    },
    {
      "cell_type": "code",
      "execution_count": 19,
      "metadata": {
        "colab": {
          "base_uri": "https://localhost:8080/"
        },
        "id": "JSj1ax14O1F3",
        "outputId": "a1a0806d-f88a-407f-d1ab-81bb28b135f8"
      },
      "outputs": [
        {
          "output_type": "stream",
          "name": "stdout",
          "text": [
            "SoftEmbedding(\n",
            "  (wte): Embedding(50257, 768)\n",
            ")\n"
          ]
        }
      ],
      "source": [
        "print(s_wte)"
      ]
    },
    {
      "cell_type": "code",
      "execution_count": 20,
      "metadata": {
        "id": "BrGF_-dzO5fE"
      },
      "outputs": [],
      "source": [
        "model.set_input_embeddings(s_wte)"
      ]
    },
    {
      "cell_type": "code",
      "execution_count": 21,
      "metadata": {
        "colab": {
          "base_uri": "https://localhost:8080/"
        },
        "id": "tkMWJt9nORdW",
        "outputId": "29b81f6e-e364-4179-88bf-dc970d93272f"
      },
      "outputs": [
        {
          "output_type": "stream",
          "name": "stdout",
          "text": [
            "SoftEmbedding(\n",
            "  (wte): Embedding(50257, 768)\n",
            ")\n"
          ]
        }
      ],
      "source": [
        "print(model.get_input_embeddings())\n"
      ]
    },
    {
      "cell_type": "code",
      "execution_count": 22,
      "metadata": {
        "id": "-W67VMgjO5R-"
      },
      "outputs": [],
      "source": [
        "inputs = tokenizer(\"May the force be\", return_tensors=\"pt\")\n",
        "\n",
        "# need to pad attention_mask and input_ids to be full seq_len + n_learned_tokens\n",
        "# even though it does not matter what you pad input_ids with, it's just to make HF happy\n",
        "inputs['input_ids'] = torch.cat([torch.full((1,n_tokens), 50256), inputs['input_ids']], 1)\n",
        "inputs['attention_mask'] = torch.cat([torch.full((1,n_tokens), 1), inputs['attention_mask']], 1)\n",
        "\n",
        "outputs = model(**inputs)"
      ]
    },
    {
      "cell_type": "code",
      "execution_count": 23,
      "metadata": {
        "colab": {
          "base_uri": "https://localhost:8080/"
        },
        "id": "MMno6fbaO5Pu",
        "outputId": "e3317fb1-14fc-414a-fa7d-698f94fefb68"
      },
      "outputs": [
        {
          "output_type": "stream",
          "name": "stdout",
          "text": [
            "torch.Size([1, 6, 50257])\n"
          ]
        }
      ],
      "source": [
        "print(outputs[\"logits\"].shape)\n"
      ]
    },
    {
      "cell_type": "code",
      "execution_count": 23,
      "metadata": {
        "id": "YqLKoQ7sO5NS"
      },
      "outputs": [],
      "source": []
    },
    {
      "cell_type": "code",
      "execution_count": 23,
      "metadata": {
        "id": "W3c5EKnHO5Ki"
      },
      "outputs": [],
      "source": []
    },
    {
      "cell_type": "code",
      "execution_count": 24,
      "metadata": {
        "colab": {
          "base_uri": "https://localhost:8080/"
        },
        "id": "pHotBrIa2FsI",
        "outputId": "3a53e16b-5429-4060-8fa7-2cadd8bdc1c3"
      },
      "outputs": [
        {
          "output_type": "stream",
          "name": "stdout",
          "text": [
            "653\n"
          ]
        }
      ],
      "source": [
        "data = {}\n",
        "maxi_context = 0\n",
        "for sent in df['context']:\n",
        "    maxi_context = max(maxi_context, len(sent.split()))\n",
        "    if(len(sent) in data):\n",
        "        data[len(sent)] += 1\n",
        "    else:\n",
        "        data[len(sent)] = 1\n",
        "\n",
        "print(maxi_context)"
      ]
    },
    {
      "cell_type": "code",
      "execution_count": 25,
      "metadata": {
        "colab": {
          "base_uri": "https://localhost:8080/"
        },
        "id": "pPwjAJ17AtUB",
        "outputId": "20a58c57-2105-4232-a184-30c162470732"
      },
      "outputs": [
        {
          "output_type": "execute_result",
          "data": {
            "text/plain": [
              "87599"
            ]
          },
          "metadata": {},
          "execution_count": 25
        }
      ],
      "source": [
        "len(df)"
      ]
    },
    {
      "cell_type": "code",
      "execution_count": 26,
      "metadata": {
        "colab": {
          "base_uri": "https://localhost:8080/"
        },
        "id": "uk0CNQT570Jx",
        "outputId": "b83c396e-30ec-4935-8c8c-d10918740262"
      },
      "outputs": [
        {
          "output_type": "stream",
          "name": "stdout",
          "text": [
            "43\n"
          ]
        }
      ],
      "source": [
        "# data = {}\n",
        "# maxi_text = 0\n",
        "\n",
        "# for i, sent in enumerate(df['answers']):\n",
        "#     print(len(sent['text']), sent['text'])\n",
        "#     text_length = len(sent['text'][0].split()) if len(sent['text']) > 0 else 0\n",
        "#     maxi_text = max(maxi_text, text_length)\n",
        "\n",
        "#     if text_length in data:\n",
        "#         data[text_length] += 1\n",
        "#     else:\n",
        "#         data[text_length] = 1\n",
        "\n",
        "# print(\"Maximum text length:\", maxi_text)\n",
        "# print(\"Length distribution:\", data)\n",
        "\n",
        "\n",
        "data = {}\n",
        "maxi_text = 0\n",
        "for i, sent in enumerate(df['answers']):\n",
        "    maxi_text = max(maxi_text, len(sent['text'][0].split()))\n",
        "    if(len(sent) in data):\n",
        "        data[len(sent)] += 1\n",
        "    else:\n",
        "        data[len(sent)] = 1\n",
        "\n",
        "print(maxi_text)"
      ]
    },
    {
      "cell_type": "code",
      "execution_count": 27,
      "metadata": {
        "colab": {
          "base_uri": "https://localhost:8080/"
        },
        "id": "qsdkE86I-_Nh",
        "outputId": "7048bd9e-c1f6-4f7f-9c65-ffd25702af1e"
      },
      "outputs": [
        {
          "output_type": "execute_result",
          "data": {
            "text/plain": [
              "Index(['id', 'title', 'context', 'question', 'answers'], dtype='object')"
            ]
          },
          "metadata": {},
          "execution_count": 27
        }
      ],
      "source": [
        "df.columns"
      ]
    },
    {
      "cell_type": "code",
      "execution_count": 28,
      "metadata": {
        "colab": {
          "base_uri": "https://localhost:8080/",
          "height": 206
        },
        "id": "no_tsHyEDM1Q",
        "outputId": "4e921435-6767-4601-cb08-695e143b3cc3"
      },
      "outputs": [
        {
          "output_type": "execute_result",
          "data": {
            "text/plain": [
              "                         id                     title  \\\n",
              "0  5733be284776f41900661182  University_of_Notre_Dame   \n",
              "1  5733be284776f4190066117f  University_of_Notre_Dame   \n",
              "2  5733be284776f41900661180  University_of_Notre_Dame   \n",
              "3  5733be284776f41900661181  University_of_Notre_Dame   \n",
              "4  5733be284776f4190066117e  University_of_Notre_Dame   \n",
              "\n",
              "                                             context  \\\n",
              "0  Architecturally, the school has a Catholic cha...   \n",
              "1  Architecturally, the school has a Catholic cha...   \n",
              "2  Architecturally, the school has a Catholic cha...   \n",
              "3  Architecturally, the school has a Catholic cha...   \n",
              "4  Architecturally, the school has a Catholic cha...   \n",
              "\n",
              "                                            question  \\\n",
              "0  To whom did the Virgin Mary allegedly appear i...   \n",
              "1  What is in front of the Notre Dame Main Building?   \n",
              "2  The Basilica of the Sacred heart at Notre Dame...   \n",
              "3                  What is the Grotto at Notre Dame?   \n",
              "4  What sits on top of the Main Building at Notre...   \n",
              "\n",
              "                                             answers  \n",
              "0  {'text': ['Saint Bernadette Soubirous'], 'answ...  \n",
              "1  {'text': ['a copper statue of Christ'], 'answe...  \n",
              "2  {'text': ['the Main Building'], 'answer_start'...  \n",
              "3  {'text': ['a Marian place of prayer and reflec...  \n",
              "4  {'text': ['a golden statue of the Virgin Mary'...  "
            ],
            "text/html": [
              "\n",
              "  <div id=\"df-05f8aa00-07c6-40bf-b628-62038f840639\" class=\"colab-df-container\">\n",
              "    <div>\n",
              "<style scoped>\n",
              "    .dataframe tbody tr th:only-of-type {\n",
              "        vertical-align: middle;\n",
              "    }\n",
              "\n",
              "    .dataframe tbody tr th {\n",
              "        vertical-align: top;\n",
              "    }\n",
              "\n",
              "    .dataframe thead th {\n",
              "        text-align: right;\n",
              "    }\n",
              "</style>\n",
              "<table border=\"1\" class=\"dataframe\">\n",
              "  <thead>\n",
              "    <tr style=\"text-align: right;\">\n",
              "      <th></th>\n",
              "      <th>id</th>\n",
              "      <th>title</th>\n",
              "      <th>context</th>\n",
              "      <th>question</th>\n",
              "      <th>answers</th>\n",
              "    </tr>\n",
              "  </thead>\n",
              "  <tbody>\n",
              "    <tr>\n",
              "      <th>0</th>\n",
              "      <td>5733be284776f41900661182</td>\n",
              "      <td>University_of_Notre_Dame</td>\n",
              "      <td>Architecturally, the school has a Catholic cha...</td>\n",
              "      <td>To whom did the Virgin Mary allegedly appear i...</td>\n",
              "      <td>{'text': ['Saint Bernadette Soubirous'], 'answ...</td>\n",
              "    </tr>\n",
              "    <tr>\n",
              "      <th>1</th>\n",
              "      <td>5733be284776f4190066117f</td>\n",
              "      <td>University_of_Notre_Dame</td>\n",
              "      <td>Architecturally, the school has a Catholic cha...</td>\n",
              "      <td>What is in front of the Notre Dame Main Building?</td>\n",
              "      <td>{'text': ['a copper statue of Christ'], 'answe...</td>\n",
              "    </tr>\n",
              "    <tr>\n",
              "      <th>2</th>\n",
              "      <td>5733be284776f41900661180</td>\n",
              "      <td>University_of_Notre_Dame</td>\n",
              "      <td>Architecturally, the school has a Catholic cha...</td>\n",
              "      <td>The Basilica of the Sacred heart at Notre Dame...</td>\n",
              "      <td>{'text': ['the Main Building'], 'answer_start'...</td>\n",
              "    </tr>\n",
              "    <tr>\n",
              "      <th>3</th>\n",
              "      <td>5733be284776f41900661181</td>\n",
              "      <td>University_of_Notre_Dame</td>\n",
              "      <td>Architecturally, the school has a Catholic cha...</td>\n",
              "      <td>What is the Grotto at Notre Dame?</td>\n",
              "      <td>{'text': ['a Marian place of prayer and reflec...</td>\n",
              "    </tr>\n",
              "    <tr>\n",
              "      <th>4</th>\n",
              "      <td>5733be284776f4190066117e</td>\n",
              "      <td>University_of_Notre_Dame</td>\n",
              "      <td>Architecturally, the school has a Catholic cha...</td>\n",
              "      <td>What sits on top of the Main Building at Notre...</td>\n",
              "      <td>{'text': ['a golden statue of the Virgin Mary'...</td>\n",
              "    </tr>\n",
              "  </tbody>\n",
              "</table>\n",
              "</div>\n",
              "    <div class=\"colab-df-buttons\">\n",
              "\n",
              "  <div class=\"colab-df-container\">\n",
              "    <button class=\"colab-df-convert\" onclick=\"convertToInteractive('df-05f8aa00-07c6-40bf-b628-62038f840639')\"\n",
              "            title=\"Convert this dataframe to an interactive table.\"\n",
              "            style=\"display:none;\">\n",
              "\n",
              "  <svg xmlns=\"http://www.w3.org/2000/svg\" height=\"24px\" viewBox=\"0 -960 960 960\">\n",
              "    <path d=\"M120-120v-720h720v720H120Zm60-500h600v-160H180v160Zm220 220h160v-160H400v160Zm0 220h160v-160H400v160ZM180-400h160v-160H180v160Zm440 0h160v-160H620v160ZM180-180h160v-160H180v160Zm440 0h160v-160H620v160Z\"/>\n",
              "  </svg>\n",
              "    </button>\n",
              "\n",
              "  <style>\n",
              "    .colab-df-container {\n",
              "      display:flex;\n",
              "      gap: 12px;\n",
              "    }\n",
              "\n",
              "    .colab-df-convert {\n",
              "      background-color: #E8F0FE;\n",
              "      border: none;\n",
              "      border-radius: 50%;\n",
              "      cursor: pointer;\n",
              "      display: none;\n",
              "      fill: #1967D2;\n",
              "      height: 32px;\n",
              "      padding: 0 0 0 0;\n",
              "      width: 32px;\n",
              "    }\n",
              "\n",
              "    .colab-df-convert:hover {\n",
              "      background-color: #E2EBFA;\n",
              "      box-shadow: 0px 1px 2px rgba(60, 64, 67, 0.3), 0px 1px 3px 1px rgba(60, 64, 67, 0.15);\n",
              "      fill: #174EA6;\n",
              "    }\n",
              "\n",
              "    .colab-df-buttons div {\n",
              "      margin-bottom: 4px;\n",
              "    }\n",
              "\n",
              "    [theme=dark] .colab-df-convert {\n",
              "      background-color: #3B4455;\n",
              "      fill: #D2E3FC;\n",
              "    }\n",
              "\n",
              "    [theme=dark] .colab-df-convert:hover {\n",
              "      background-color: #434B5C;\n",
              "      box-shadow: 0px 1px 3px 1px rgba(0, 0, 0, 0.15);\n",
              "      filter: drop-shadow(0px 1px 2px rgba(0, 0, 0, 0.3));\n",
              "      fill: #FFFFFF;\n",
              "    }\n",
              "  </style>\n",
              "\n",
              "    <script>\n",
              "      const buttonEl =\n",
              "        document.querySelector('#df-05f8aa00-07c6-40bf-b628-62038f840639 button.colab-df-convert');\n",
              "      buttonEl.style.display =\n",
              "        google.colab.kernel.accessAllowed ? 'block' : 'none';\n",
              "\n",
              "      async function convertToInteractive(key) {\n",
              "        const element = document.querySelector('#df-05f8aa00-07c6-40bf-b628-62038f840639');\n",
              "        const dataTable =\n",
              "          await google.colab.kernel.invokeFunction('convertToInteractive',\n",
              "                                                    [key], {});\n",
              "        if (!dataTable) return;\n",
              "\n",
              "        const docLinkHtml = 'Like what you see? Visit the ' +\n",
              "          '<a target=\"_blank\" href=https://colab.research.google.com/notebooks/data_table.ipynb>data table notebook</a>'\n",
              "          + ' to learn more about interactive tables.';\n",
              "        element.innerHTML = '';\n",
              "        dataTable['output_type'] = 'display_data';\n",
              "        await google.colab.output.renderOutput(dataTable, element);\n",
              "        const docLink = document.createElement('div');\n",
              "        docLink.innerHTML = docLinkHtml;\n",
              "        element.appendChild(docLink);\n",
              "      }\n",
              "    </script>\n",
              "  </div>\n",
              "\n",
              "\n",
              "<div id=\"df-55b11693-b632-4732-9fc3-9923595d6e25\">\n",
              "  <button class=\"colab-df-quickchart\" onclick=\"quickchart('df-55b11693-b632-4732-9fc3-9923595d6e25')\"\n",
              "            title=\"Suggest charts\"\n",
              "            style=\"display:none;\">\n",
              "\n",
              "<svg xmlns=\"http://www.w3.org/2000/svg\" height=\"24px\"viewBox=\"0 0 24 24\"\n",
              "     width=\"24px\">\n",
              "    <g>\n",
              "        <path d=\"M19 3H5c-1.1 0-2 .9-2 2v14c0 1.1.9 2 2 2h14c1.1 0 2-.9 2-2V5c0-1.1-.9-2-2-2zM9 17H7v-7h2v7zm4 0h-2V7h2v10zm4 0h-2v-4h2v4z\"/>\n",
              "    </g>\n",
              "</svg>\n",
              "  </button>\n",
              "\n",
              "<style>\n",
              "  .colab-df-quickchart {\n",
              "      --bg-color: #E8F0FE;\n",
              "      --fill-color: #1967D2;\n",
              "      --hover-bg-color: #E2EBFA;\n",
              "      --hover-fill-color: #174EA6;\n",
              "      --disabled-fill-color: #AAA;\n",
              "      --disabled-bg-color: #DDD;\n",
              "  }\n",
              "\n",
              "  [theme=dark] .colab-df-quickchart {\n",
              "      --bg-color: #3B4455;\n",
              "      --fill-color: #D2E3FC;\n",
              "      --hover-bg-color: #434B5C;\n",
              "      --hover-fill-color: #FFFFFF;\n",
              "      --disabled-bg-color: #3B4455;\n",
              "      --disabled-fill-color: #666;\n",
              "  }\n",
              "\n",
              "  .colab-df-quickchart {\n",
              "    background-color: var(--bg-color);\n",
              "    border: none;\n",
              "    border-radius: 50%;\n",
              "    cursor: pointer;\n",
              "    display: none;\n",
              "    fill: var(--fill-color);\n",
              "    height: 32px;\n",
              "    padding: 0;\n",
              "    width: 32px;\n",
              "  }\n",
              "\n",
              "  .colab-df-quickchart:hover {\n",
              "    background-color: var(--hover-bg-color);\n",
              "    box-shadow: 0 1px 2px rgba(60, 64, 67, 0.3), 0 1px 3px 1px rgba(60, 64, 67, 0.15);\n",
              "    fill: var(--button-hover-fill-color);\n",
              "  }\n",
              "\n",
              "  .colab-df-quickchart-complete:disabled,\n",
              "  .colab-df-quickchart-complete:disabled:hover {\n",
              "    background-color: var(--disabled-bg-color);\n",
              "    fill: var(--disabled-fill-color);\n",
              "    box-shadow: none;\n",
              "  }\n",
              "\n",
              "  .colab-df-spinner {\n",
              "    border: 2px solid var(--fill-color);\n",
              "    border-color: transparent;\n",
              "    border-bottom-color: var(--fill-color);\n",
              "    animation:\n",
              "      spin 1s steps(1) infinite;\n",
              "  }\n",
              "\n",
              "  @keyframes spin {\n",
              "    0% {\n",
              "      border-color: transparent;\n",
              "      border-bottom-color: var(--fill-color);\n",
              "      border-left-color: var(--fill-color);\n",
              "    }\n",
              "    20% {\n",
              "      border-color: transparent;\n",
              "      border-left-color: var(--fill-color);\n",
              "      border-top-color: var(--fill-color);\n",
              "    }\n",
              "    30% {\n",
              "      border-color: transparent;\n",
              "      border-left-color: var(--fill-color);\n",
              "      border-top-color: var(--fill-color);\n",
              "      border-right-color: var(--fill-color);\n",
              "    }\n",
              "    40% {\n",
              "      border-color: transparent;\n",
              "      border-right-color: var(--fill-color);\n",
              "      border-top-color: var(--fill-color);\n",
              "    }\n",
              "    60% {\n",
              "      border-color: transparent;\n",
              "      border-right-color: var(--fill-color);\n",
              "    }\n",
              "    80% {\n",
              "      border-color: transparent;\n",
              "      border-right-color: var(--fill-color);\n",
              "      border-bottom-color: var(--fill-color);\n",
              "    }\n",
              "    90% {\n",
              "      border-color: transparent;\n",
              "      border-bottom-color: var(--fill-color);\n",
              "    }\n",
              "  }\n",
              "</style>\n",
              "\n",
              "  <script>\n",
              "    async function quickchart(key) {\n",
              "      const quickchartButtonEl =\n",
              "        document.querySelector('#' + key + ' button');\n",
              "      quickchartButtonEl.disabled = true;  // To prevent multiple clicks.\n",
              "      quickchartButtonEl.classList.add('colab-df-spinner');\n",
              "      try {\n",
              "        const charts = await google.colab.kernel.invokeFunction(\n",
              "            'suggestCharts', [key], {});\n",
              "      } catch (error) {\n",
              "        console.error('Error during call to suggestCharts:', error);\n",
              "      }\n",
              "      quickchartButtonEl.classList.remove('colab-df-spinner');\n",
              "      quickchartButtonEl.classList.add('colab-df-quickchart-complete');\n",
              "    }\n",
              "    (() => {\n",
              "      let quickchartButtonEl =\n",
              "        document.querySelector('#df-55b11693-b632-4732-9fc3-9923595d6e25 button');\n",
              "      quickchartButtonEl.style.display =\n",
              "        google.colab.kernel.accessAllowed ? 'block' : 'none';\n",
              "    })();\n",
              "  </script>\n",
              "</div>\n",
              "    </div>\n",
              "  </div>\n"
            ]
          },
          "metadata": {},
          "execution_count": 28
        }
      ],
      "source": [
        "df.head()"
      ]
    },
    {
      "cell_type": "code",
      "source": [
        "df['text'] = df['answers'].apply(lambda x: x['text'][0])\n",
        "\n",
        "# Drop the original column if needed\n",
        "# df = df.drop('answers', axis=1)"
      ],
      "metadata": {
        "id": "78ozJxoSvkU3"
      },
      "execution_count": 29,
      "outputs": []
    },
    {
      "cell_type": "code",
      "source": [
        "df.head()"
      ],
      "metadata": {
        "colab": {
          "base_uri": "https://localhost:8080/",
          "height": 293
        },
        "id": "mPvGdnk8v4-g",
        "outputId": "277f2dab-08ee-4857-cbb1-e06926d249cc"
      },
      "execution_count": 30,
      "outputs": [
        {
          "output_type": "execute_result",
          "data": {
            "text/plain": [
              "                         id                     title  \\\n",
              "0  5733be284776f41900661182  University_of_Notre_Dame   \n",
              "1  5733be284776f4190066117f  University_of_Notre_Dame   \n",
              "2  5733be284776f41900661180  University_of_Notre_Dame   \n",
              "3  5733be284776f41900661181  University_of_Notre_Dame   \n",
              "4  5733be284776f4190066117e  University_of_Notre_Dame   \n",
              "\n",
              "                                             context  \\\n",
              "0  Architecturally, the school has a Catholic cha...   \n",
              "1  Architecturally, the school has a Catholic cha...   \n",
              "2  Architecturally, the school has a Catholic cha...   \n",
              "3  Architecturally, the school has a Catholic cha...   \n",
              "4  Architecturally, the school has a Catholic cha...   \n",
              "\n",
              "                                            question  \\\n",
              "0  To whom did the Virgin Mary allegedly appear i...   \n",
              "1  What is in front of the Notre Dame Main Building?   \n",
              "2  The Basilica of the Sacred heart at Notre Dame...   \n",
              "3                  What is the Grotto at Notre Dame?   \n",
              "4  What sits on top of the Main Building at Notre...   \n",
              "\n",
              "                                             answers  \\\n",
              "0  {'text': ['Saint Bernadette Soubirous'], 'answ...   \n",
              "1  {'text': ['a copper statue of Christ'], 'answe...   \n",
              "2  {'text': ['the Main Building'], 'answer_start'...   \n",
              "3  {'text': ['a Marian place of prayer and reflec...   \n",
              "4  {'text': ['a golden statue of the Virgin Mary'...   \n",
              "\n",
              "                                      text  \n",
              "0               Saint Bernadette Soubirous  \n",
              "1                a copper statue of Christ  \n",
              "2                        the Main Building  \n",
              "3  a Marian place of prayer and reflection  \n",
              "4       a golden statue of the Virgin Mary  "
            ],
            "text/html": [
              "\n",
              "  <div id=\"df-837dbfa6-853f-4516-af13-43ff6645e40d\" class=\"colab-df-container\">\n",
              "    <div>\n",
              "<style scoped>\n",
              "    .dataframe tbody tr th:only-of-type {\n",
              "        vertical-align: middle;\n",
              "    }\n",
              "\n",
              "    .dataframe tbody tr th {\n",
              "        vertical-align: top;\n",
              "    }\n",
              "\n",
              "    .dataframe thead th {\n",
              "        text-align: right;\n",
              "    }\n",
              "</style>\n",
              "<table border=\"1\" class=\"dataframe\">\n",
              "  <thead>\n",
              "    <tr style=\"text-align: right;\">\n",
              "      <th></th>\n",
              "      <th>id</th>\n",
              "      <th>title</th>\n",
              "      <th>context</th>\n",
              "      <th>question</th>\n",
              "      <th>answers</th>\n",
              "      <th>text</th>\n",
              "    </tr>\n",
              "  </thead>\n",
              "  <tbody>\n",
              "    <tr>\n",
              "      <th>0</th>\n",
              "      <td>5733be284776f41900661182</td>\n",
              "      <td>University_of_Notre_Dame</td>\n",
              "      <td>Architecturally, the school has a Catholic cha...</td>\n",
              "      <td>To whom did the Virgin Mary allegedly appear i...</td>\n",
              "      <td>{'text': ['Saint Bernadette Soubirous'], 'answ...</td>\n",
              "      <td>Saint Bernadette Soubirous</td>\n",
              "    </tr>\n",
              "    <tr>\n",
              "      <th>1</th>\n",
              "      <td>5733be284776f4190066117f</td>\n",
              "      <td>University_of_Notre_Dame</td>\n",
              "      <td>Architecturally, the school has a Catholic cha...</td>\n",
              "      <td>What is in front of the Notre Dame Main Building?</td>\n",
              "      <td>{'text': ['a copper statue of Christ'], 'answe...</td>\n",
              "      <td>a copper statue of Christ</td>\n",
              "    </tr>\n",
              "    <tr>\n",
              "      <th>2</th>\n",
              "      <td>5733be284776f41900661180</td>\n",
              "      <td>University_of_Notre_Dame</td>\n",
              "      <td>Architecturally, the school has a Catholic cha...</td>\n",
              "      <td>The Basilica of the Sacred heart at Notre Dame...</td>\n",
              "      <td>{'text': ['the Main Building'], 'answer_start'...</td>\n",
              "      <td>the Main Building</td>\n",
              "    </tr>\n",
              "    <tr>\n",
              "      <th>3</th>\n",
              "      <td>5733be284776f41900661181</td>\n",
              "      <td>University_of_Notre_Dame</td>\n",
              "      <td>Architecturally, the school has a Catholic cha...</td>\n",
              "      <td>What is the Grotto at Notre Dame?</td>\n",
              "      <td>{'text': ['a Marian place of prayer and reflec...</td>\n",
              "      <td>a Marian place of prayer and reflection</td>\n",
              "    </tr>\n",
              "    <tr>\n",
              "      <th>4</th>\n",
              "      <td>5733be284776f4190066117e</td>\n",
              "      <td>University_of_Notre_Dame</td>\n",
              "      <td>Architecturally, the school has a Catholic cha...</td>\n",
              "      <td>What sits on top of the Main Building at Notre...</td>\n",
              "      <td>{'text': ['a golden statue of the Virgin Mary'...</td>\n",
              "      <td>a golden statue of the Virgin Mary</td>\n",
              "    </tr>\n",
              "  </tbody>\n",
              "</table>\n",
              "</div>\n",
              "    <div class=\"colab-df-buttons\">\n",
              "\n",
              "  <div class=\"colab-df-container\">\n",
              "    <button class=\"colab-df-convert\" onclick=\"convertToInteractive('df-837dbfa6-853f-4516-af13-43ff6645e40d')\"\n",
              "            title=\"Convert this dataframe to an interactive table.\"\n",
              "            style=\"display:none;\">\n",
              "\n",
              "  <svg xmlns=\"http://www.w3.org/2000/svg\" height=\"24px\" viewBox=\"0 -960 960 960\">\n",
              "    <path d=\"M120-120v-720h720v720H120Zm60-500h600v-160H180v160Zm220 220h160v-160H400v160Zm0 220h160v-160H400v160ZM180-400h160v-160H180v160Zm440 0h160v-160H620v160ZM180-180h160v-160H180v160Zm440 0h160v-160H620v160Z\"/>\n",
              "  </svg>\n",
              "    </button>\n",
              "\n",
              "  <style>\n",
              "    .colab-df-container {\n",
              "      display:flex;\n",
              "      gap: 12px;\n",
              "    }\n",
              "\n",
              "    .colab-df-convert {\n",
              "      background-color: #E8F0FE;\n",
              "      border: none;\n",
              "      border-radius: 50%;\n",
              "      cursor: pointer;\n",
              "      display: none;\n",
              "      fill: #1967D2;\n",
              "      height: 32px;\n",
              "      padding: 0 0 0 0;\n",
              "      width: 32px;\n",
              "    }\n",
              "\n",
              "    .colab-df-convert:hover {\n",
              "      background-color: #E2EBFA;\n",
              "      box-shadow: 0px 1px 2px rgba(60, 64, 67, 0.3), 0px 1px 3px 1px rgba(60, 64, 67, 0.15);\n",
              "      fill: #174EA6;\n",
              "    }\n",
              "\n",
              "    .colab-df-buttons div {\n",
              "      margin-bottom: 4px;\n",
              "    }\n",
              "\n",
              "    [theme=dark] .colab-df-convert {\n",
              "      background-color: #3B4455;\n",
              "      fill: #D2E3FC;\n",
              "    }\n",
              "\n",
              "    [theme=dark] .colab-df-convert:hover {\n",
              "      background-color: #434B5C;\n",
              "      box-shadow: 0px 1px 3px 1px rgba(0, 0, 0, 0.15);\n",
              "      filter: drop-shadow(0px 1px 2px rgba(0, 0, 0, 0.3));\n",
              "      fill: #FFFFFF;\n",
              "    }\n",
              "  </style>\n",
              "\n",
              "    <script>\n",
              "      const buttonEl =\n",
              "        document.querySelector('#df-837dbfa6-853f-4516-af13-43ff6645e40d button.colab-df-convert');\n",
              "      buttonEl.style.display =\n",
              "        google.colab.kernel.accessAllowed ? 'block' : 'none';\n",
              "\n",
              "      async function convertToInteractive(key) {\n",
              "        const element = document.querySelector('#df-837dbfa6-853f-4516-af13-43ff6645e40d');\n",
              "        const dataTable =\n",
              "          await google.colab.kernel.invokeFunction('convertToInteractive',\n",
              "                                                    [key], {});\n",
              "        if (!dataTable) return;\n",
              "\n",
              "        const docLinkHtml = 'Like what you see? Visit the ' +\n",
              "          '<a target=\"_blank\" href=https://colab.research.google.com/notebooks/data_table.ipynb>data table notebook</a>'\n",
              "          + ' to learn more about interactive tables.';\n",
              "        element.innerHTML = '';\n",
              "        dataTable['output_type'] = 'display_data';\n",
              "        await google.colab.output.renderOutput(dataTable, element);\n",
              "        const docLink = document.createElement('div');\n",
              "        docLink.innerHTML = docLinkHtml;\n",
              "        element.appendChild(docLink);\n",
              "      }\n",
              "    </script>\n",
              "  </div>\n",
              "\n",
              "\n",
              "<div id=\"df-e56e3d57-67ae-4abc-9a05-e35fb15a6055\">\n",
              "  <button class=\"colab-df-quickchart\" onclick=\"quickchart('df-e56e3d57-67ae-4abc-9a05-e35fb15a6055')\"\n",
              "            title=\"Suggest charts\"\n",
              "            style=\"display:none;\">\n",
              "\n",
              "<svg xmlns=\"http://www.w3.org/2000/svg\" height=\"24px\"viewBox=\"0 0 24 24\"\n",
              "     width=\"24px\">\n",
              "    <g>\n",
              "        <path d=\"M19 3H5c-1.1 0-2 .9-2 2v14c0 1.1.9 2 2 2h14c1.1 0 2-.9 2-2V5c0-1.1-.9-2-2-2zM9 17H7v-7h2v7zm4 0h-2V7h2v10zm4 0h-2v-4h2v4z\"/>\n",
              "    </g>\n",
              "</svg>\n",
              "  </button>\n",
              "\n",
              "<style>\n",
              "  .colab-df-quickchart {\n",
              "      --bg-color: #E8F0FE;\n",
              "      --fill-color: #1967D2;\n",
              "      --hover-bg-color: #E2EBFA;\n",
              "      --hover-fill-color: #174EA6;\n",
              "      --disabled-fill-color: #AAA;\n",
              "      --disabled-bg-color: #DDD;\n",
              "  }\n",
              "\n",
              "  [theme=dark] .colab-df-quickchart {\n",
              "      --bg-color: #3B4455;\n",
              "      --fill-color: #D2E3FC;\n",
              "      --hover-bg-color: #434B5C;\n",
              "      --hover-fill-color: #FFFFFF;\n",
              "      --disabled-bg-color: #3B4455;\n",
              "      --disabled-fill-color: #666;\n",
              "  }\n",
              "\n",
              "  .colab-df-quickchart {\n",
              "    background-color: var(--bg-color);\n",
              "    border: none;\n",
              "    border-radius: 50%;\n",
              "    cursor: pointer;\n",
              "    display: none;\n",
              "    fill: var(--fill-color);\n",
              "    height: 32px;\n",
              "    padding: 0;\n",
              "    width: 32px;\n",
              "  }\n",
              "\n",
              "  .colab-df-quickchart:hover {\n",
              "    background-color: var(--hover-bg-color);\n",
              "    box-shadow: 0 1px 2px rgba(60, 64, 67, 0.3), 0 1px 3px 1px rgba(60, 64, 67, 0.15);\n",
              "    fill: var(--button-hover-fill-color);\n",
              "  }\n",
              "\n",
              "  .colab-df-quickchart-complete:disabled,\n",
              "  .colab-df-quickchart-complete:disabled:hover {\n",
              "    background-color: var(--disabled-bg-color);\n",
              "    fill: var(--disabled-fill-color);\n",
              "    box-shadow: none;\n",
              "  }\n",
              "\n",
              "  .colab-df-spinner {\n",
              "    border: 2px solid var(--fill-color);\n",
              "    border-color: transparent;\n",
              "    border-bottom-color: var(--fill-color);\n",
              "    animation:\n",
              "      spin 1s steps(1) infinite;\n",
              "  }\n",
              "\n",
              "  @keyframes spin {\n",
              "    0% {\n",
              "      border-color: transparent;\n",
              "      border-bottom-color: var(--fill-color);\n",
              "      border-left-color: var(--fill-color);\n",
              "    }\n",
              "    20% {\n",
              "      border-color: transparent;\n",
              "      border-left-color: var(--fill-color);\n",
              "      border-top-color: var(--fill-color);\n",
              "    }\n",
              "    30% {\n",
              "      border-color: transparent;\n",
              "      border-left-color: var(--fill-color);\n",
              "      border-top-color: var(--fill-color);\n",
              "      border-right-color: var(--fill-color);\n",
              "    }\n",
              "    40% {\n",
              "      border-color: transparent;\n",
              "      border-right-color: var(--fill-color);\n",
              "      border-top-color: var(--fill-color);\n",
              "    }\n",
              "    60% {\n",
              "      border-color: transparent;\n",
              "      border-right-color: var(--fill-color);\n",
              "    }\n",
              "    80% {\n",
              "      border-color: transparent;\n",
              "      border-right-color: var(--fill-color);\n",
              "      border-bottom-color: var(--fill-color);\n",
              "    }\n",
              "    90% {\n",
              "      border-color: transparent;\n",
              "      border-bottom-color: var(--fill-color);\n",
              "    }\n",
              "  }\n",
              "</style>\n",
              "\n",
              "  <script>\n",
              "    async function quickchart(key) {\n",
              "      const quickchartButtonEl =\n",
              "        document.querySelector('#' + key + ' button');\n",
              "      quickchartButtonEl.disabled = true;  // To prevent multiple clicks.\n",
              "      quickchartButtonEl.classList.add('colab-df-spinner');\n",
              "      try {\n",
              "        const charts = await google.colab.kernel.invokeFunction(\n",
              "            'suggestCharts', [key], {});\n",
              "      } catch (error) {\n",
              "        console.error('Error during call to suggestCharts:', error);\n",
              "      }\n",
              "      quickchartButtonEl.classList.remove('colab-df-spinner');\n",
              "      quickchartButtonEl.classList.add('colab-df-quickchart-complete');\n",
              "    }\n",
              "    (() => {\n",
              "      let quickchartButtonEl =\n",
              "        document.querySelector('#df-e56e3d57-67ae-4abc-9a05-e35fb15a6055 button');\n",
              "      quickchartButtonEl.style.display =\n",
              "        google.colab.kernel.accessAllowed ? 'block' : 'none';\n",
              "    })();\n",
              "  </script>\n",
              "</div>\n",
              "    </div>\n",
              "  </div>\n"
            ]
          },
          "metadata": {},
          "execution_count": 30
        }
      ]
    },
    {
      "cell_type": "code",
      "execution_count": 31,
      "metadata": {
        "id": "LuIGUo3GJOyy"
      },
      "outputs": [],
      "source": [
        "df_new = df[['question', 'text']]"
      ]
    },
    {
      "cell_type": "code",
      "execution_count": 32,
      "metadata": {
        "id": "-ZbahPxbJOvr"
      },
      "outputs": [],
      "source": [
        "import torch\n",
        "from torch.utils.data import DataLoader\n",
        "from transformers import GPT2Model, GPT2Tokenizer, GPT2Config, AdamW\n",
        "from torch.nn import Embedding\n",
        "from datasets import load_dataset\n",
        "from tqdm import tqdm\n",
        "\n",
        "# Set device\n",
        "device = torch.device(\"cuda\" if torch.cuda.is_available() else \"cpu\")"
      ]
    },
    {
      "cell_type": "code",
      "execution_count": 43,
      "metadata": {
        "id": "z1yixDOsJOtB"
      },
      "outputs": [],
      "source": [
        "from transformers import GPT2LMHeadModel, GPT2TokenizerFast\n",
        "model = GPT2LMHeadModel.from_pretrained('gpt2')\n",
        "tokenizer = GPT2TokenizerFast.from_pretrained(\"gpt2\")\n",
        "\n",
        "tokenizer.add_special_tokens({\"pad_token\": \"<pad>\",\n",
        "                              \"bos_token\": \"<sos>\",\n",
        "                              \"eos_token\": \"<eos>\"\n",
        "                             })\n",
        "model.config.pad_token_id = tokenizer.pad_token_id\n",
        "model.config.bos_token_id = tokenizer.bos_token_id\n",
        "model.config.eos_token_id = tokenizer.eos_token_id\n",
        "\n",
        "tokenizer.add_tokens([\"<extract>\"])\n",
        "model.resize_token_embeddings(len(tokenizer))\n",
        "\n",
        "n_tokens = 1\n",
        "\n",
        "s_wte = SoftEmbedding(model.get_input_embeddings(), n_tokens=n_tokens)\n",
        "model.set_input_embeddings(s_wte)\n",
        "\n",
        "if torch.cuda.is_available():\n",
        "    model = model.cuda()"
      ]
    },
    {
      "cell_type": "code",
      "execution_count": 34,
      "metadata": {
        "id": "UKraJPMgJOqX"
      },
      "outputs": [],
      "source": [
        "# Fine-tuning parameters\n",
        "batch_size = 4\n",
        "epochs = 5\n",
        "learning_rate = 1e-5\n",
        "gradient_clip_value = 1.0"
      ]
    },
    {
      "cell_type": "code",
      "source": [
        "len(df_new)"
      ],
      "metadata": {
        "colab": {
          "base_uri": "https://localhost:8080/"
        },
        "id": "ByzY1kn0xIDs",
        "outputId": "354668bd-ec27-4c30-b972-5c1c45e3a4a0"
      },
      "execution_count": 35,
      "outputs": [
        {
          "output_type": "execute_result",
          "data": {
            "text/plain": [
              "87599"
            ]
          },
          "metadata": {},
          "execution_count": 35
        }
      ]
    },
    {
      "cell_type": "code",
      "execution_count": 48,
      "metadata": {
        "id": "HiHwHRU4JYQW"
      },
      "outputs": [],
      "source": [
        "class Squad(Dataset):\n",
        "  def __init__(self, squad, tokenizer):\n",
        "    self.data = squad\n",
        "    self.question = self.data['question']\n",
        "    self.text = self.data['text']\n",
        "    self.X = []\n",
        "\n",
        "    for question, text in zip(self.question, self.text):\n",
        "        self.X.append(\"<sos> \" + question + \" <extract> \" + text + \" <eos>\")\n",
        "\n",
        "    self.encode = tokenizer(self.X, max_length=100, truncation=True, padding=\"max_length\", return_tensors=\"pt\")\n",
        "    # self.encode = torch.cat([torch.full((1,n_tokens), 50261), self.encode], 1)\n",
        "    self.attention_mask = self.encode['attention_mask']\n",
        "    self.input_ids = self.encode['input_ids']\n",
        "\n",
        "  def __len__(self):\n",
        "    return len(self.X)\n",
        "\n",
        "  def __getitem__(self, idx):\n",
        "    return (self.input_ids[idx], self.attention_mask[idx])"
      ]
    },
    {
      "cell_type": "code",
      "execution_count": 49,
      "metadata": {
        "id": "vudfS4WfJlVu"
      },
      "outputs": [],
      "source": [
        "dataset = Squad(df_new[:10000], tokenizer)\n",
        "dataloader = DataLoader(dataset, batch_size=1)"
      ]
    },
    {
      "cell_type": "code",
      "execution_count": 50,
      "metadata": {
        "id": "g0FTYWBGJYOB"
      },
      "outputs": [],
      "source": [
        "batch_size = 1\n",
        "\n",
        "dataset_val = Squad(df[10000:11000], tokenizer)\n",
        "dataloader_val = DataLoader(dataset_val, batch_size=1)\n"
      ]
    },
    {
      "cell_type": "code",
      "execution_count": 51,
      "metadata": {
        "colab": {
          "base_uri": "https://localhost:8080/"
        },
        "id": "xlDkbZOMJ7TU",
        "outputId": "5bc0c6d1-cd2e-456d-e137-d78f839d093c"
      },
      "outputs": [
        {
          "output_type": "stream",
          "name": "stdout",
          "text": [
            "100 tensor([50258,  1675,  4150,   750,   262,  5283,  5335,  7910,  1656,   287,\n",
            "         1248,  3365,   287,   406,   454,  8906,  4881,    30,   220, 50260,\n",
            "         9281,  6206,   324,  5857,   311, 12944,   343,   516,   220, 50259,\n",
            "        50257, 50257, 50257, 50257, 50257, 50257, 50257, 50257, 50257, 50257,\n",
            "        50257, 50257, 50257, 50257, 50257, 50257, 50257, 50257, 50257, 50257,\n",
            "        50257, 50257, 50257, 50257, 50257, 50257, 50257, 50257, 50257, 50257,\n",
            "        50257, 50257, 50257, 50257, 50257, 50257, 50257, 50257, 50257, 50257,\n",
            "        50257, 50257, 50257, 50257, 50257, 50257, 50257, 50257, 50257, 50257,\n",
            "        50257, 50257, 50257, 50257, 50257, 50257, 50257, 50257, 50257, 50257,\n",
            "        50257, 50257, 50257, 50257, 50257, 50257, 50257, 50257, 50257, 50257])\n",
            "100 tensor(30) tensor([1, 1, 1, 1, 1, 1, 1, 1, 1, 1, 1, 1, 1, 1, 1, 1, 1, 1, 1, 1, 1, 1, 1, 1,\n",
            "        1, 1, 1, 1, 1, 1, 0, 0, 0, 0, 0, 0, 0, 0, 0, 0, 0, 0, 0, 0, 0, 0, 0, 0,\n",
            "        0, 0, 0, 0, 0, 0, 0, 0, 0, 0, 0, 0, 0, 0, 0, 0, 0, 0, 0, 0, 0, 0, 0, 0,\n",
            "        0, 0, 0, 0, 0, 0, 0, 0, 0, 0, 0, 0, 0, 0, 0, 0, 0, 0, 0, 0, 0, 0, 0, 0,\n",
            "        0, 0, 0, 0])\n"
          ]
        }
      ],
      "source": [
        "for batch in dataloader:\n",
        "    print(len(batch[0][0]), batch[0][0])\n",
        "    print(len(batch[1][0]), torch.sum(batch[1][0]), batch[1][0])\n",
        "    break"
      ]
    },
    {
      "cell_type": "code",
      "execution_count": 52,
      "metadata": {
        "id": "KmTV071vJ7Q2"
      },
      "outputs": [],
      "source": [
        "optim = Adam(model.parameters(), lr=1e-3)\n",
        "device = 'cuda'"
      ]
    },
    {
      "cell_type": "code",
      "execution_count": 53,
      "metadata": {
        "id": "wPEifNHyJ7OF"
      },
      "outputs": [],
      "source": [
        "parameters = list(model.parameters())\n",
        "for x in parameters[1:]:\n",
        "    x.requires_grad = False"
      ]
    },
    {
      "cell_type": "code",
      "execution_count": 55,
      "metadata": {
        "id": "4KaaWTI3JYKg",
        "colab": {
          "base_uri": "https://localhost:8080/"
        },
        "outputId": "9b23e4da-6ed6-4138-be77-8ea2c36d9440"
      },
      "outputs": [
        {
          "output_type": "stream",
          "name": "stderr",
          "text": [
            "100%|██████████| 10000/10000 [06:23<00:00, 26.10it/s]\n"
          ]
        },
        {
          "output_type": "stream",
          "name": "stdout",
          "text": [
            "Epoch: 1, Loss: 19.3316\n"
          ]
        },
        {
          "output_type": "stream",
          "name": "stderr",
          "text": [
            "100%|██████████| 1000/1000 [00:22<00:00, 44.96it/s]"
          ]
        },
        {
          "output_type": "stream",
          "name": "stdout",
          "text": [
            "Epoch: 1, VAL Loss: 19.2178\n"
          ]
        },
        {
          "output_type": "stream",
          "name": "stderr",
          "text": [
            "\n"
          ]
        }
      ],
      "source": [
        "epochs = 1\n",
        "total_loss = 0\n",
        "num_batches = 0\n",
        "losses = []\n",
        "rouges = []\n",
        "optim = Adam(model.parameters(), lr=1e-1)\n",
        "\n",
        "model = model.to('cuda')\n",
        "for epoch in range(epochs):\n",
        "    for ques, ans in tqdm(dataloader):\n",
        "        # print(ques.shape)\n",
        "        # print(ans.shape)\n",
        "        ques = torch.cat([torch.full((1, n_tokens), 0, dtype=torch.long), ques], 1)\n",
        "        ans = torch.cat([torch.full((1, n_tokens), 0, dtype=torch.long), ans], 1)\n",
        "\n",
        "        ques = ques.to(device)\n",
        "        ans = ans.to(device)\n",
        "\n",
        "        optim.zero_grad()\n",
        "        outputs = model(ques, attention_mask=ans, labels=ques)\n",
        "        loss = outputs.loss\n",
        "        # print(loss)\n",
        "        loss.backward()\n",
        "        optim.step()\n",
        "\n",
        "        total_loss += loss.item()\n",
        "        num_batches += 1\n",
        "        losses.append(loss.item() / batch_size)\n",
        "    avg_loss = total_loss / num_batches\n",
        "    print(f'Epoch: {epoch+1}, Loss: {avg_loss:.4f}')\n",
        "    if avg_loss <= 0.155:\n",
        "        model.save_pretrained('gpt2_squad')\n",
        "\n",
        "\n",
        "    val_loss = 0\n",
        "    num_batches = 0\n",
        "    for ques, ans in tqdm(dataloader_val):\n",
        "        ques = torch.cat([torch.full((1, n_tokens), 0, dtype=torch.long), ques], 1)\n",
        "        ans = torch.cat([torch.full((1, n_tokens), 0, dtype=torch.long), ans], 1)\n",
        "\n",
        "        ques = ques.to(device)\n",
        "        ans = ans.to(device)\n",
        "\n",
        "        optim.zero_grad()\n",
        "        outputs = model(ques, attention_mask=ans, labels=ques)\n",
        "        loss = outputs.loss\n",
        "        optim.step()\n",
        "\n",
        "        val_loss += loss.item()\n",
        "        num_batches += 1\n",
        "        # losses.append(loss.item() / batch_size)\n",
        "    avg_loss = val_loss / num_batches\n",
        "    print(f'Epoch: {epoch+1}, VAL Loss: {avg_loss:.4f}')\n"
      ]
    },
    {
      "cell_type": "code",
      "execution_count": 56,
      "metadata": {
        "id": "STTFhlXaJOnY",
        "colab": {
          "base_uri": "https://localhost:8080/",
          "height": 472
        },
        "outputId": "a1ef5f7a-eaa0-403d-a180-10a2ecacfd8c"
      },
      "outputs": [
        {
          "output_type": "display_data",
          "data": {
            "text/plain": [
              "<Figure size 640x480 with 1 Axes>"
            ],
            "image/png": "[encoded data removed]"
          },
          "metadata": {}
        }
      ],
      "source": [
        "import matplotlib.pyplot as plt\n",
        "\n",
        "# Example data (replace with your actual data)\n",
        "# result = [10, 15, 20, 18, 25]\n",
        "\n",
        "# Plot the data\n",
        "plt.plot(losses[::100], marker='o')\n",
        "plt.xlabel('batches')\n",
        "plt.ylabel('loss')\n",
        "plt.title('1D List Plot')\n",
        "plt.grid(True)\n",
        "plt.show()\n"
      ]
    },
    {
      "cell_type": "markdown",
      "source": [
        "Different Hyperparameter"
      ],
      "metadata": {
        "id": "ttzwQNiP7Cy7"
      }
    },
    {
      "cell_type": "code",
      "source": [
        "epochs = 2\n",
        "total_loss = 0\n",
        "num_batches = 0\n",
        "losses = []\n",
        "rouges = []\n",
        "optim = Adam(model.parameters(), lr=1e-1)\n",
        "\n",
        "model = model.to('cuda')\n",
        "for epoch in range(epochs):\n",
        "    for ques, ans in tqdm(dataloader):\n",
        "        # print(ques.shape)\n",
        "        # print(ans.shape)\n",
        "        ques = torch.cat([torch.full((1, n_tokens), 0, dtype=torch.long), ques], 1)\n",
        "        ans = torch.cat([torch.full((1, n_tokens), 0, dtype=torch.long), ans], 1)\n",
        "\n",
        "        ques = ques.to(device)\n",
        "        ans = ans.to(device)\n",
        "\n",
        "        optim.zero_grad()\n",
        "        outputs = model(ques, attention_mask=ans, labels=ques)\n",
        "        loss = outputs.loss\n",
        "        # print(loss)\n",
        "        loss.backward()\n",
        "        optim.step()\n",
        "\n",
        "        total_loss += loss.item()\n",
        "        num_batches += 1\n",
        "        losses.append(loss.item() / batch_size)\n",
        "    avg_loss = total_loss / num_batches\n",
        "    print(f'Epoch: {epoch+1}, Loss: {avg_loss:.4f}')\n",
        "    if avg_loss <= 0.155:\n",
        "        model.save_pretrained('gpt2_squad')\n",
        "\n",
        "\n",
        "    val_loss = 0\n",
        "    num_batches = 0\n",
        "    for ques, ans in tqdm(dataloader_val):\n",
        "        ques = torch.cat([torch.full((1, n_tokens), 0, dtype=torch.long), ques], 1)\n",
        "        ans = torch.cat([torch.full((1, n_tokens), 0, dtype=torch.long), ans], 1)\n",
        "\n",
        "        ques = ques.to(device)\n",
        "        ans = ans.to(device)\n",
        "\n",
        "        optim.zero_grad()\n",
        "        outputs = model(ques, attention_mask=ans, labels=ques)\n",
        "        loss = outputs.loss\n",
        "        optim.step()\n",
        "\n",
        "        val_loss += loss.item()\n",
        "        num_batches += 1\n",
        "        # losses.append(loss.item() / batch_size)\n",
        "    avg_loss = val_loss / num_batches\n",
        "    print(f'Epoch: {epoch+1}, VAL Loss: {avg_loss:.4f}')\n"
      ],
      "metadata": {
        "colab": {
          "base_uri": "https://localhost:8080/"
        },
        "id": "AOkDU3Ml68jL",
        "outputId": "d24b2bd3-0a80-4cf6-8631-0452448ce1b7"
      },
      "execution_count": 64,
      "outputs": [
        {
          "output_type": "stream",
          "name": "stderr",
          "text": [
            "100%|██████████| 10000/10000 [06:20<00:00, 26.27it/s]\n"
          ]
        },
        {
          "output_type": "stream",
          "name": "stdout",
          "text": [
            "Epoch: 1, Loss: 19.3316\n"
          ]
        },
        {
          "output_type": "stream",
          "name": "stderr",
          "text": [
            "100%|██████████| 1000/1000 [00:22<00:00, 45.44it/s]\n"
          ]
        },
        {
          "output_type": "stream",
          "name": "stdout",
          "text": [
            "Epoch: 1, VAL Loss: 19.2178\n"
          ]
        },
        {
          "output_type": "stream",
          "name": "stderr",
          "text": [
            "100%|██████████| 10000/10000 [06:02<00:00, 27.56it/s]\n"
          ]
        },
        {
          "output_type": "stream",
          "name": "stdout",
          "text": [
            "Epoch: 2, Loss: 35.1484\n"
          ]
        },
        {
          "output_type": "stream",
          "name": "stderr",
          "text": [
            "100%|██████████| 1000/1000 [00:22<00:00, 44.88it/s]"
          ]
        },
        {
          "output_type": "stream",
          "name": "stdout",
          "text": [
            "Epoch: 2, VAL Loss: 19.2178\n"
          ]
        },
        {
          "output_type": "stream",
          "name": "stderr",
          "text": [
            "\n"
          ]
        }
      ]
    },
    {
      "cell_type": "code",
      "source": [
        "import matplotlib.pyplot as plt\n",
        "\n",
        "# Example data (replace with your actual data)\n",
        "# result = [10, 15, 20, 18, 25]\n",
        "\n",
        "# Plot the data\n",
        "plt.plot(losses[::100], marker='o')\n",
        "plt.xlabel('batches')\n",
        "plt.ylabel('loss')\n",
        "plt.title('1D List Plot')\n",
        "plt.grid(True)\n",
        "plt.show()\n"
      ],
      "metadata": {
        "colab": {
          "base_uri": "https://localhost:8080/",
          "height": 472
        },
        "id": "6TR_tWzK69nh",
        "outputId": "222fdbc2-fa00-43d2-e60a-ae159cccf955"
      },
      "execution_count": 65,
      "outputs": [
        {
          "output_type": "display_data",
          "data": {
            "text/plain": [
              "<Figure size 640x480 with 1 Axes>"
            ],
            "image/png": "[encoded data removed]"
          },
          "metadata": {}
        }
      ]
    },
    {
      "cell_type": "code",
      "execution_count": 66,
      "metadata": {
        "id": "rJeVlbVrGod3"
      },
      "outputs": [],
      "source": [
        "trained_parameter = parameters[0]\n"
      ]
    },
    {
      "cell_type": "code",
      "execution_count": 67,
      "metadata": {
        "id": "OPJz-ZAz73Yy"
      },
      "outputs": [],
      "source": [
        "model.save_pretrained(\"/content/gdrive/MyDrive/nlp dataset/gpt2_squad.pth\")\n"
      ]
    },
    {
      "cell_type": "code",
      "execution_count": 73,
      "metadata": {
        "id": "i-yiTl4W-o7A",
        "colab": {
          "base_uri": "https://localhost:8080/"
        },
        "outputId": "a665d898-d331-4d3d-d06e-7bfd8525741b"
      },
      "outputs": [
        {
          "output_type": "stream",
          "name": "stdout",
          "text": [
            "768\n"
          ]
        }
      ],
      "source": [
        "no_of_parameters = sum(p.numel() for p in model.parameters() if p.requires_grad)\n",
        "print(no_of_parameters)"
      ]
    },
    {
      "cell_type": "code",
      "source": [
        "trained_parameter\n"
      ],
      "metadata": {
        "colab": {
          "base_uri": "https://localhost:8080/"
        },
        "id": "oS_56S67yHjH",
        "outputId": "e4ce7aec-7c6b-4519-c465-e0e7a4963915"
      },
      "execution_count": 74,
      "outputs": [
        {
          "output_type": "execute_result",
          "data": {
            "text/plain": [
              "Parameter containing:\n",
              "tensor([[-2.4421e-01, -6.1015e-01, -8.3104e-01, -9.4396e-01, -1.2955e-01,\n",
              "         -5.9097e-01, -6.3230e-01, -6.8485e-02,  7.4566e-01, -8.2997e-03,\n",
              "         -5.8487e-01,  3.7118e-01, -4.9086e-01, -1.9561e+00,  2.5578e+00,\n",
              "         -5.9271e-01,  1.9535e+00,  1.0676e+00, -1.8577e+00,  1.2755e+00,\n",
              "         -9.6459e-01, -1.1312e+00, -4.5587e-01, -1.2911e+00,  4.6091e-01,\n",
              "         -2.0592e+00,  5.7648e-01,  5.5502e-01,  3.2490e-01, -3.1656e-01,\n",
              "         -2.8994e-01, -9.1055e-02,  4.4291e-01, -7.3945e-02,  1.4437e+00,\n",
              "          4.2277e-01,  2.6976e+00,  4.3236e-01,  5.4038e-01, -1.5451e+00,\n",
              "         -1.2621e+00, -3.2218e-01,  6.8192e-01,  1.1043e+00, -3.2679e-01,\n",
              "         -8.8474e-01,  2.0789e+00,  1.0385e+00,  1.5869e+00,  3.2641e-01,\n",
              "          2.8286e-01, -1.4492e+00, -1.5633e+00, -2.0283e+00,  1.0941e+00,\n",
              "         -1.8569e+00,  7.6010e-01,  1.1509e+00, -8.3699e-01,  5.3140e-01,\n",
              "         -4.2970e-01,  5.6371e-01,  1.0105e+00,  2.0950e-01,  8.7402e-01,\n",
              "         -5.5053e-01, -2.7725e+00,  8.3797e-01,  2.5073e+00,  8.5328e-01,\n",
              "          1.0302e+00,  1.2271e+00, -1.2447e-01,  2.4227e+00, -1.1312e+00,\n",
              "         -9.1177e-01,  8.3070e-01,  9.3395e-01, -7.5265e-01,  2.7157e+00,\n",
              "          4.5265e-02, -1.0682e+00,  9.0675e-01, -1.5571e+00,  1.9484e+00,\n",
              "         -1.7752e+00,  1.1624e+00, -4.3076e-01, -1.1064e+00,  1.3259e+00,\n",
              "          9.6252e-01,  9.0164e-01,  7.2846e-01, -3.0351e-01, -8.1226e-01,\n",
              "         -5.2829e-02,  2.4230e-01,  1.8362e+00,  1.1967e-01, -9.0073e-01,\n",
              "          3.8628e-01, -1.7483e-01, -1.2267e+00,  1.7120e+00, -1.3883e+00,\n",
              "         -5.1710e-01,  6.5063e-01, -3.6860e-01,  3.7844e-01,  1.7989e+00,\n",
              "          4.7830e-01, -4.2500e-01,  2.9878e-01,  1.4962e+00, -9.1994e-01,\n",
              "         -1.0518e+00,  1.0293e+00,  1.7760e+00, -1.5021e-01, -5.7791e-01,\n",
              "          1.8166e+00,  4.0681e-02,  4.7796e-02,  9.8932e-01,  1.4512e-01,\n",
              "         -2.3518e-01, -6.6605e-01, -1.0155e+00,  9.4634e-01, -1.1424e+00,\n",
              "         -7.7441e-01, -2.7876e-03, -1.5651e-02, -8.2424e-01,  4.3179e-01,\n",
              "         -5.7443e-01,  1.2353e+00, -4.6153e-01, -1.9696e+00, -1.8775e+00,\n",
              "         -9.4743e-01, -6.2873e-01,  6.2940e-01,  3.3571e-01,  5.6236e-01,\n",
              "          3.6337e-02,  1.5634e+00,  1.0800e+00,  1.5315e+00, -1.2056e+00,\n",
              "         -3.3426e-01,  2.5714e+00,  9.6135e-01, -1.9043e+00, -4.2980e-01,\n",
              "         -5.1421e-01, -1.2587e+00,  1.4119e+00,  2.2670e-01, -1.5509e+00,\n",
              "         -5.7664e-02,  6.7195e-01, -5.3753e-02, -1.5302e+00,  9.1777e-01,\n",
              "          2.2433e-01,  5.3840e-01, -3.1324e-01,  1.0642e-01,  7.5804e-01,\n",
              "         -3.9547e-01,  1.0725e+00,  1.9857e+00, -2.2870e-01, -1.8349e+00,\n",
              "          1.5776e+00,  1.1848e+00,  8.2172e-02,  6.0136e-01, -5.1975e-02,\n",
              "          6.5290e-01, -2.0375e+00, -5.9069e-01,  1.1356e+00, -1.3395e+00,\n",
              "          8.8849e-02, -1.7284e+00,  1.1034e+00,  3.6173e-01, -8.6412e-01,\n",
              "          1.1164e-01, -7.1674e-01,  3.0493e-02, -1.0768e+00,  6.2050e-01,\n",
              "          1.4951e+00,  1.4388e+00,  1.0207e+00, -5.9885e-01,  6.6128e-01,\n",
              "          6.6584e-01,  5.2673e-01,  1.4054e-01,  1.9295e+00, -1.5276e+00,\n",
              "          4.7916e-01, -1.4244e-01, -2.0325e-02,  9.9000e-01,  2.2068e+00,\n",
              "          2.0481e-01, -4.8548e-01,  9.5516e-01, -1.1118e-01, -2.0801e+00,\n",
              "         -6.2754e-01, -7.5805e-01,  5.8296e-01,  1.0714e+00,  2.9408e-01,\n",
              "          5.6901e-01,  1.1070e+00, -2.8399e+00,  8.4079e-01, -7.1027e-01,\n",
              "         -6.3251e-01,  2.6448e-01, -8.0750e-01, -1.8837e+00, -8.2973e-01,\n",
              "         -2.5066e+00,  9.4005e-01, -1.7843e+00,  1.1324e+00, -6.8114e-01,\n",
              "          1.0234e+00, -2.9854e-01,  6.5087e-01,  9.8515e-01, -2.4067e+00,\n",
              "          4.0686e-01,  1.2575e+00, -5.5977e-01, -1.3239e+00,  1.6546e+00,\n",
              "         -5.0197e-01, -1.1022e-01,  9.9875e-01, -9.3727e-01, -4.6184e-01,\n",
              "          9.7652e-01, -6.4847e-01, -1.6839e+00, -7.4448e-01,  1.2059e-01,\n",
              "         -1.1461e+00,  1.3217e+00, -1.3823e+00, -3.2845e-01, -3.6307e-03,\n",
              "         -3.3777e-01,  6.0372e-01, -2.7042e-01, -2.3756e+00,  2.1647e-01,\n",
              "          1.9949e-01,  1.7867e-01, -1.0769e+00, -7.9406e-01, -5.9745e-01,\n",
              "         -1.2498e+00, -8.5282e-01, -5.9710e-01, -2.3637e+00,  2.3628e-01,\n",
              "          1.0886e+00,  7.0082e-02, -1.4214e+00, -1.0621e+00, -4.0434e-01,\n",
              "         -1.2882e+00, -2.6258e-01, -1.8623e+00, -7.6076e-01, -3.2726e-01,\n",
              "          1.7127e+00, -6.5616e-01, -2.5330e-01, -5.3893e-02, -5.6592e-01,\n",
              "          1.7691e+00,  1.6125e-01,  1.8031e+00, -1.1329e-01,  1.1403e-01,\n",
              "         -1.2712e+00, -2.4896e+00, -1.9767e-01,  9.6932e-01, -1.2024e+00,\n",
              "         -1.7116e+00,  1.9132e+00,  7.3873e-01, -4.1990e-01,  4.6165e-01,\n",
              "          1.8828e+00, -5.0246e-01,  1.6615e+00,  6.4831e-02, -7.3038e-01,\n",
              "          5.0394e-01, -3.1827e-01,  2.7418e-01,  2.5792e+00, -3.4485e+00,\n",
              "         -6.3864e-01,  6.9744e-01, -6.7141e-01, -1.2325e+00, -6.6707e-02,\n",
              "          4.9728e-01, -4.7208e-01, -6.0883e-01,  8.4065e-01,  1.7809e+00,\n",
              "         -7.8556e-01, -1.5356e+00,  5.6967e-01, -6.8968e-01,  1.2107e+00,\n",
              "          1.7589e+00, -1.3288e+00,  1.1470e+00, -3.0637e+00,  8.3737e-01,\n",
              "          3.8722e+00, -7.8144e-01,  1.7941e+00,  8.5982e-01,  2.2492e+00,\n",
              "          1.3929e+00,  2.0377e+00, -1.2732e+00,  1.1863e+00,  1.4898e+00,\n",
              "         -1.1572e+00, -6.2787e-01,  1.2314e-02, -1.6044e+00, -2.3588e+00,\n",
              "         -2.0340e-02,  1.1640e+00, -1.6688e-01,  1.1113e+00, -1.6723e+00,\n",
              "          7.3499e-01,  2.0161e+00, -8.6498e-01,  1.2862e+00, -4.6612e-01,\n",
              "          1.6945e-01, -7.1410e-01, -1.8961e+00, -1.8885e+00, -2.3045e-01,\n",
              "          4.0769e-01,  1.0078e+00,  9.6299e-01, -1.8717e+00, -1.5325e+00,\n",
              "          5.3211e-03, -1.0615e-01,  7.9864e-01,  4.7748e-01,  9.2435e-01,\n",
              "         -7.7223e-01,  1.7732e-01,  8.1987e-01,  3.5529e+00,  1.1587e+00,\n",
              "          9.0714e-01, -1.8672e+00, -8.4818e-01, -2.4173e-01, -7.5656e-01,\n",
              "          1.4209e+00, -9.4285e-01,  1.5622e+00, -9.0975e-01, -3.3437e-01,\n",
              "         -1.5400e+00,  8.4382e-01, -8.0762e-01, -2.0398e+00,  9.6451e-01,\n",
              "         -1.2236e+00,  1.5267e+00,  3.5469e-01,  1.0141e+00, -5.1409e-01,\n",
              "          6.3950e-01,  5.7273e-01,  1.3437e+00, -1.0627e+00,  8.3070e-01,\n",
              "         -1.2923e-01,  3.8347e-01, -2.2374e+00, -4.9595e-01, -1.9726e+00,\n",
              "         -4.2425e-01,  2.8181e-01,  3.4636e+00, -1.0414e+00,  9.7664e-01,\n",
              "          5.8198e-01, -8.4409e-01, -3.1412e-01, -9.4801e-01,  3.3101e-01,\n",
              "          3.3769e-02, -3.4092e-01,  2.9798e-01,  1.8907e-01,  2.1289e+00,\n",
              "         -6.7967e-01, -2.3699e-02,  3.0495e-01, -1.6217e+00, -1.4980e+00,\n",
              "         -2.5514e+00,  7.0054e-01, -9.8922e-01,  2.4999e-01, -4.1371e-02,\n",
              "         -8.2818e-01,  1.2664e+00, -1.2248e+00,  7.0395e-01,  6.2133e-02,\n",
              "         -1.6493e+00, -7.0863e-01, -1.8601e+00, -9.1347e-01, -8.6529e-01,\n",
              "         -1.5289e-01,  9.1768e-01, -4.0266e-01,  1.8862e+00, -5.3859e-02,\n",
              "          1.0982e+00,  2.2051e+00, -3.7796e-01, -8.4726e-01,  2.5838e+00,\n",
              "          3.7007e-01,  3.2120e-01,  7.0002e-01,  1.6502e+00,  1.2602e+00,\n",
              "          6.2477e-01,  2.9381e-01, -2.2952e-01,  3.4344e-01, -8.8515e-01,\n",
              "         -2.5087e+00,  1.3958e+00, -1.2909e+00,  9.7689e-01,  2.2354e+00,\n",
              "          2.2107e+00, -1.1098e+00,  2.4599e-01,  1.5851e+00,  1.5188e-01,\n",
              "         -1.5391e+00, -3.2939e-02, -1.0454e+00,  7.2889e-01,  3.3377e-01,\n",
              "         -1.3754e-01, -1.1725e+00, -6.9039e-01,  1.1436e+00,  4.0880e-01,\n",
              "         -1.2519e+00,  1.4062e+00,  1.2559e+00, -1.1618e+00,  1.3030e+00,\n",
              "          6.6328e-01,  1.5395e-01,  8.6673e-01, -1.9223e-01, -1.3467e+00,\n",
              "         -1.1701e+00,  9.2631e-01,  8.4161e-01, -9.2170e-01,  6.5424e-01,\n",
              "         -4.0874e+00, -2.4770e+00, -2.2122e-01,  1.3504e+00, -2.1612e+00,\n",
              "         -1.3490e+00, -1.5855e-01, -9.3814e-01,  1.5957e+00, -9.8993e-01,\n",
              "          1.5837e+00, -4.7093e-01, -1.4965e-01,  2.1994e-01,  1.1932e+00,\n",
              "          1.8107e+00, -9.2603e-01,  1.1732e+00,  4.4551e-01, -9.7629e-01,\n",
              "          7.1864e-01,  5.5016e-02,  5.8234e-01, -9.3117e-01,  1.5742e+00,\n",
              "         -8.3817e-02,  7.2682e-01,  1.4597e-01,  1.9886e-03, -7.4985e-01,\n",
              "          4.5449e-01,  5.2104e-01, -2.2477e+00, -1.8029e+00, -7.4347e-01,\n",
              "         -1.9383e+00,  1.1840e-01,  1.3296e+00,  1.3894e+00, -8.2805e-01,\n",
              "         -1.1971e+00,  1.2563e+00, -1.1240e+00,  7.4092e-01, -1.9563e+00,\n",
              "         -1.4835e-01, -1.1513e+00, -3.2574e-01,  4.7304e-01,  1.5231e+00,\n",
              "          1.2125e+00,  1.5094e+00,  5.2482e-01, -4.9631e-01, -1.4543e-01,\n",
              "          1.8284e+00,  9.6433e-01, -7.5468e-01,  6.2719e-01,  1.2788e+00,\n",
              "          5.3658e-02, -1.2855e+00,  8.2131e-01,  3.4540e-01, -1.2196e+00,\n",
              "          6.5936e-01,  1.0178e+00, -1.0060e-01,  2.9289e-01,  1.0481e+00,\n",
              "         -2.4697e-01,  7.8034e-01, -4.7548e-01,  3.6650e+00, -7.6925e-01,\n",
              "          2.4293e-01, -1.5261e+00,  9.2791e-01, -2.3202e-01,  6.0429e-01,\n",
              "          4.8650e-01, -1.5385e-01,  4.9137e-01,  1.7452e-01, -3.3251e-01,\n",
              "          8.3775e-01,  9.0104e-01, -3.3591e-01, -5.9687e-01,  1.7198e-01,\n",
              "         -2.7063e+00,  2.5165e+00, -6.7496e-02,  1.2629e+00, -2.1091e-01,\n",
              "          2.3735e-01,  2.0249e-01, -3.2042e-01, -8.7900e-01,  1.7215e+00,\n",
              "         -1.0704e-01,  2.5726e-02,  1.2163e-01, -1.3223e+00,  9.0264e-01,\n",
              "          2.8733e-02,  1.7541e-01, -7.2605e-02, -1.3233e+00,  1.2488e+00,\n",
              "         -5.6570e-01,  1.1657e+00,  1.9429e-01, -6.4565e-01,  2.1966e+00,\n",
              "         -4.9113e-01,  6.8339e-01,  3.8204e-01,  3.5940e-01,  1.0135e+00,\n",
              "          3.3894e+00,  2.1429e+00, -3.9526e-01, -7.3011e-01, -7.2249e-01,\n",
              "          1.0459e-01, -1.5220e+00,  4.1989e-01,  1.0297e-01,  5.1613e-01,\n",
              "         -6.5652e-01, -1.6188e-01,  1.3237e-01,  1.1941e+00,  3.6128e-01,\n",
              "          2.7271e-01, -3.4179e-01, -1.1726e+00, -4.1231e-01,  1.4472e-01,\n",
              "         -1.2918e+00,  2.4849e-01, -3.8499e-01, -7.6751e-01, -1.4548e-01,\n",
              "         -1.1869e-01,  1.8476e+00,  1.1243e+00, -1.3437e+00, -9.0167e-01,\n",
              "          1.8530e-01,  5.3392e-01, -1.9257e+00,  1.8140e-01,  3.6402e-01,\n",
              "          9.9258e-01, -1.0604e-03, -3.6549e-01,  1.3892e+00, -5.6167e-01,\n",
              "         -4.8109e-01,  1.1880e-03,  4.0932e-01, -2.1542e+00,  7.0077e-02,\n",
              "          1.2431e+00, -7.1114e-01,  1.2403e+00,  1.3137e-01, -1.7387e+00,\n",
              "         -1.3562e+00, -2.2589e-01, -6.7350e-01, -8.7889e-01,  1.3499e+00,\n",
              "          9.0869e-01, -9.3949e-01,  1.0687e+00, -1.3538e+00,  6.6881e-01,\n",
              "         -4.3824e-01, -3.0465e-02, -2.1322e-01,  1.3012e+00,  1.0589e+00,\n",
              "          2.2822e+00,  1.0702e+00, -1.7975e-01,  4.2705e-02,  1.5439e+00,\n",
              "          1.4167e+00, -9.1307e-01, -1.6663e-01, -8.5772e-01,  6.9208e-01,\n",
              "          3.4337e-01, -1.7178e+00,  9.8414e-02, -1.7193e-01, -2.5571e-03,\n",
              "         -9.4303e-01, -7.0093e-02, -6.7297e-01,  7.7575e-01,  5.8935e-01,\n",
              "          1.2248e+00,  1.3596e+00,  3.2856e+00,  8.1765e-01,  1.4466e+00,\n",
              "          9.1960e-01, -1.4738e+00, -1.6113e+00, -9.0079e-01, -3.4900e-01,\n",
              "         -4.4211e-03,  8.4623e-01, -2.0143e-01,  8.2546e-01, -1.2111e-01,\n",
              "         -1.4815e-01,  5.5968e-02, -1.8605e+00, -3.1375e-01, -1.4422e+00,\n",
              "          5.0677e-01, -8.8423e-01, -1.1352e-01,  3.7570e-01,  1.0598e+00,\n",
              "          4.5253e-01, -1.3907e-01, -8.8746e-01, -4.8504e-01, -4.3090e-01,\n",
              "         -1.5838e+00, -6.7509e-02, -1.5724e+00, -4.0571e-03, -2.2301e-01,\n",
              "         -2.5876e+00,  2.9197e+00,  1.2739e+00,  2.7178e+00,  1.6103e+00,\n",
              "          2.0804e-01,  5.4505e-01,  2.2476e-01,  3.7240e-01,  1.7492e-01,\n",
              "         -9.1987e-01,  7.7402e-01,  4.0260e-01,  3.2078e-01, -5.3685e-02,\n",
              "         -1.1521e+00,  1.4645e+00,  6.0090e-02,  1.2404e+00, -7.0472e-01,\n",
              "         -8.7140e-02,  8.8134e-01,  4.0305e-01,  5.1624e-01,  1.1206e-01,\n",
              "          2.3711e+00, -1.2056e+00,  3.3908e-01]], requires_grad=True)"
            ]
          },
          "metadata": {},
          "execution_count": 74
        }
      ]
    },
    {
      "cell_type": "code",
      "source": [
        "def inference(input_text, model):\n",
        "    model = model.to('cpu')\n",
        "    input_ids = tokenizer.encode(input_text, return_tensors='pt')\n",
        "    ques = torch.cat([torch.full((1, n_tokens), 0, dtype=torch.long), input_ids], 1)\n",
        "    # print(input_ids)\n",
        "    output_ids = model.generate(input_ids, max_length=200, num_beams=5, no_repeat_ngram_size=2, top_k=50)\n",
        "    output_ids = output_ids\n",
        "    output_text = tokenizer.decode(output_ids[0], skip_special_tokens=True)\n",
        "    return output_text"
      ],
      "metadata": {
        "id": "qoN5OZFdyJbF"
      },
      "execution_count": 75,
      "outputs": []
    },
    {
      "cell_type": "code",
      "source": [
        "from nltk.translate.bleu_score import sentence_bleu\n",
        "\n",
        "def find_bleu(reference_tokens, candidate_tokens):\n",
        "    print(\"required : \", reference_tokens)\n",
        "    print(\"Predicted : \", candidate_tokens)\n",
        "    mini = min(len(candidate_tokens.split()), len(reference_tokens.split()))\n",
        "    reference_tokens = [token.lower() for token in reference_tokens.split()]\n",
        "    candidate_tokens = [token.lower() for token in candidate_tokens.split()]\n",
        "\n",
        "    # Calculate BLEU score\n",
        "    bleu_score = sentence_bleu([reference_tokens], candidate_tokens)\n",
        "\n",
        "    # Print the BLEU score\n",
        "    print(\"BLEU Score:\", bleu_score)\n"
      ],
      "metadata": {
        "id": "PsL3UeSjyLWe"
      },
      "execution_count": 76,
      "outputs": []
    },
    {
      "cell_type": "code",
      "source": [
        "for i in range(110,134):\n",
        "    # print(\"question :\", df_new.loc[i]['question'])\n",
        "    find_bleu(df_new.loc[i]['text'], inference(df_new.loc[i]['question'], model))"
      ],
      "metadata": {
        "id": "FFlLAgmZyMmV",
        "colab": {
          "base_uri": "https://localhost:8080/"
        },
        "outputId": "bd74f5ad-3d05-4d2c-8bff-84313ebeb2d7"
      },
      "execution_count": 82,
      "outputs": [
        {
          "output_type": "stream",
          "name": "stdout",
          "text": [
            "required :  Laetare Medal\n",
            "Predicted :  Irvin Abell was given what award by Notre Dame?\n",
            "BLEU Score: 0\n",
            "required :  1883\n",
            "Predicted :  Which year was the Laetare Medal first given out at Notre Dame?\n",
            "BLEU Score: 0\n",
            "required :  God\n",
            "Predicted :  For whos glory did Father O'Hara believed that the Notre Dame football team played?\n",
            "BLEU Score: 0\n",
            "required :  more than half\n",
            "Predicted :  Around the time that Rev. Cavanaugh became president of Notre Dame by how much did the undergrad student body of Notre Dame increase?\n",
            "BLEU Score: 0\n",
            "required :  Lobund Institute for Animal Studies\n",
            "Predicted :  Which institute involving animal life did Cavanaugh create at Notre Dame?\n",
            "BLEU Score: 1.1896457329133973e-231\n",
            "required :  Hall of Liberal Arts\n",
            "Predicted :  What is O'Shaughnessy Hall of Notre Dame formerly known as?\n",
            "BLEU Score: 5.7592918561109494e-155\n",
            "required :  Rev. John J. Cavanaugh, C.S.C.\n",
            "Predicted :  Which president did Notre Dame have in 1947?\n",
            "BLEU Score: 0\n",
            "required :  Medieval Institute\n",
            "Predicted :  Outside of an institute studying animals, what other institute did Cavanugh create at Notre Dame?\n",
            "BLEU Score: 9.257324954728539e-232\n",
            "required :  1917–2015\n",
            "Predicted :  What was the lifespan of Theodore Hesburgh?\n",
            "BLEU Score: 0\n",
            "required :  18\n",
            "Predicted :  In the time that Hesburgh was president of Notre Dame by what factor did the operating budget increase?\n",
            "BLEU Score: 0\n",
            "required :  $9 million\n",
            "Predicted :  What was the size of the Notre Dame endowment when Theodore Hesburgh became president?\n",
            "BLEU Score: 0\n",
            "required :  1952–87\n",
            "Predicted :  During what years was Theodor Hesburgh president of Notre Dame?\n",
            "BLEU Score: 0\n",
            "required :  950\n",
            "Predicted :  How many faculty members were at Notre Dame when Hesburgh left the role of president?\n",
            "BLEU Score: 0\n",
            "required :  coeducational\n",
            "Predicted :  What type of educational institute is Hesburgh given credit for creating at Notre Dame?\n",
            "BLEU Score: 0\n",
            "required :  Dean of Arts and Letters\n",
            "Predicted :  Which role did Charles Sheedy have at Notre Dame?\n",
            "BLEU Score: 0\n",
            "required :  Vice President of Student Affairs\n",
            "Predicted :  What title did Thomas Blantz have at Notre Dame?\n",
            "BLEU Score: 0\n",
            "required :  1971\n",
            "Predicted :  In what year did Notre Dame have its earliest undergraduate that was female?\n",
            "BLEU Score: 0\n",
            "required :  Saint Mary's College\n",
            "Predicted :  With what institute did Notre Dame agree to an exchange program in the 1960s?\n",
            "BLEU Score: 0\n",
            "required :  1987–2005\n",
            "Predicted :  During what years was Edward Malloy president of Notre Dame?\n",
            "BLEU Score: 0\n",
            "required :  1240\n",
            "Predicted :  What was the SAT score, on average, at Notre Dame when Edward Malloy became president?\n",
            "BLEU Score: 0\n",
            "required :  $350 million\n",
            "Predicted :  When Malloy became president of Notre Dame what was the size of the endowment?\n",
            "BLEU Score: 0\n",
            "required :  more than $70 million\n",
            "Predicted :  When Malloy reached the end of his time as president how much annuals funding for research did Notre Dame have?\n",
            "BLEU Score: 0\n",
            "required :  500\n",
            "Predicted :  The amount of professors at Notre Dame increased by what amount under Malloy?\n",
            "BLEU Score: 0\n",
            "required :  2005\n",
            "Predicted :  When did John Jenkins become the president of Notre Dame?\n",
            "BLEU Score: 0\n"
          ]
        }
      ]
    },
    {
      "cell_type": "code",
      "source": [],
      "metadata": {
        "id": "BOFSPryL4L1c"
      },
      "execution_count": null,
      "outputs": []
    }
  ],
  "metadata": {
    "colab": {
      "provenance": [],
      "gpuType": "T4"
    },
    "kernelspec": {
      "display_name": "Python 3",
      "name": "python3"
    },
    "language_info": {
      "name": "python"
    },
    "accelerator": "GPU"
  },
  "nbformat": 4,
  "nbformat_minor": 0
}